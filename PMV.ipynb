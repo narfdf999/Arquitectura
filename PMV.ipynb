{
  "nbformat": 4,
  "nbformat_minor": 0,
  "metadata": {
    "colab": {
      "name": "PMV.ipynb",
      "provenance": [],
      "collapsed_sections": [],
      "include_colab_link": true
    },
    "kernelspec": {
      "name": "python3",
      "display_name": "Python 3"
    }
  },
  "cells": [
    {
      "cell_type": "markdown",
      "metadata": {
        "id": "view-in-github",
        "colab_type": "text"
      },
      "source": [
        "<a href=\"https://colab.research.google.com/github/narfdf999/Arquitectura/blob/master/PMV.ipynb\" target=\"_parent\"><img src=\"https://colab.research.google.com/assets/colab-badge.svg\" alt=\"Open In Colab\"/></a>"
      ]
    },
    {
      "cell_type": "markdown",
      "metadata": {
        "id": "p9OQ9H-QGxIy",
        "colab_type": "text"
      },
      "source": [
        "Primera aproximación al problema de generar edificio a lo largo de un camino dibujado por el arquitecto"
      ]
    },
    {
      "cell_type": "markdown",
      "metadata": {
        "id": "i-mcvveFHM6T",
        "colab_type": "text"
      },
      "source": [
        "Importar librerías"
      ]
    },
    {
      "cell_type": "code",
      "metadata": {
        "id": "qBX7BIByom0a",
        "colab_type": "code",
        "colab": {}
      },
      "source": [
        "import numpy as np\n",
        "import pandas as pd\n",
        "import matplotlib.pyplot as plt\n",
        "%matplotlib inline\n",
        "import keras\n",
        "from keras.layers import Dense, Dropout, Input\n",
        "from keras.models import Model,Sequential\n",
        "from tqdm import tqdm\n",
        "from keras.layers.advanced_activations import LeakyReLU\n",
        "from keras.optimizers import adam"
      ],
      "execution_count": 0,
      "outputs": []
    },
    {
      "cell_type": "markdown",
      "metadata": {
        "id": "MvEaZStWHbvP",
        "colab_type": "text"
      },
      "source": [
        "Preparación y carga de datos"
      ]
    },
    {
      "cell_type": "code",
      "metadata": {
        "id": "b6XIWpcUHgRC",
        "colab_type": "code",
        "colab": {}
      },
      "source": [
        ""
      ],
      "execution_count": 0,
      "outputs": []
    },
    {
      "cell_type": "markdown",
      "metadata": {
        "id": "pVjttYbzHg6C",
        "colab_type": "text"
      },
      "source": [
        "Optimizador ADAM\n"
      ]
    },
    {
      "cell_type": "code",
      "metadata": {
        "id": "0KM1b-ffHrBD",
        "colab_type": "code",
        "colab": {}
      },
      "source": [
        "def adam_optimizer():\n",
        "    return Adam(lr=0.0002, beta_1=0.5)"
      ],
      "execution_count": 0,
      "outputs": []
    },
    {
      "cell_type": "markdown",
      "metadata": {
        "id": "Xq1hL3uyHsKE",
        "colab_type": "text"
      },
      "source": [
        "Generador"
      ]
    },
    {
      "cell_type": "code",
      "metadata": {
        "id": "hVCTlRoXHyTI",
        "colab_type": "code",
        "colab": {}
      },
      "source": [
        ""
      ],
      "execution_count": 0,
      "outputs": []
    },
    {
      "cell_type": "markdown",
      "metadata": {
        "id": "z9ke-a1hHyiE",
        "colab_type": "text"
      },
      "source": [
        "Discriminador"
      ]
    },
    {
      "cell_type": "code",
      "metadata": {
        "id": "UpK_eVF-H3V7",
        "colab_type": "code",
        "colab": {}
      },
      "source": [
        ""
      ],
      "execution_count": 0,
      "outputs": []
    },
    {
      "cell_type": "markdown",
      "metadata": {
        "id": "e-tLWnrmH3p1",
        "colab_type": "text"
      },
      "source": [
        "GAN"
      ]
    },
    {
      "cell_type": "code",
      "metadata": {
        "id": "0coXdbcaH5A3",
        "colab_type": "code",
        "colab": {}
      },
      "source": [
        ""
      ],
      "execution_count": 0,
      "outputs": []
    },
    {
      "cell_type": "markdown",
      "metadata": {
        "id": "mSguEPx-H_D6",
        "colab_type": "text"
      },
      "source": [
        "Postprocesado de datos de salida"
      ]
    },
    {
      "cell_type": "code",
      "metadata": {
        "id": "sVUjBlQvIFiQ",
        "colab_type": "code",
        "colab": {}
      },
      "source": [
        ""
      ],
      "execution_count": 0,
      "outputs": []
    },
    {
      "cell_type": "markdown",
      "metadata": {
        "id": "uA8rNjv_IFvk",
        "colab_type": "text"
      },
      "source": [
        "Entrenamiento"
      ]
    },
    {
      "cell_type": "code",
      "metadata": {
        "id": "vAJvjjvNIHcO",
        "colab_type": "code",
        "colab": {}
      },
      "source": [
        ""
      ],
      "execution_count": 0,
      "outputs": []
    }
  ]
}