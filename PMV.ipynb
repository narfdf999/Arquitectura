{
  "nbformat": 4,
  "nbformat_minor": 0,
  "metadata": {
    "colab": {
      "name": "PMV.ipynb",
      "provenance": [],
      "collapsed_sections": [],
      "include_colab_link": true
    },
    "kernelspec": {
      "name": "python3",
      "display_name": "Python 3"
    }
  },
  "cells": [
    {
      "cell_type": "markdown",
      "metadata": {
        "id": "view-in-github",
        "colab_type": "text"
      },
      "source": [
        "<a href=\"https://colab.research.google.com/github/narfdf999/Arquitectura/blob/master/PMV.ipynb\" target=\"_parent\"><img src=\"https://colab.research.google.com/assets/colab-badge.svg\" alt=\"Open In Colab\"/></a>"
      ]
    },
    {
      "cell_type": "markdown",
      "metadata": {
        "id": "p9OQ9H-QGxIy",
        "colab_type": "text"
      },
      "source": [
        "# ***Primera aproximación al problema de generar edificio a lo largo de un camino dibujado por el arquitecto***"
      ]
    },
    {
      "cell_type": "markdown",
      "metadata": {
        "id": "i-mcvveFHM6T",
        "colab_type": "text"
      },
      "source": [
        "## Librerías\n",
        "\n",
        "---\n",
        "\n"
      ]
    },
    {
      "cell_type": "code",
      "metadata": {
        "id": "qBX7BIByom0a",
        "colab_type": "code",
        "colab": {}
      },
      "source": [
        "import numpy as np\n",
        "import pandas as pd\n",
        "import csv\n",
        "import matplotlib.pyplot as plt\n",
        "import keras\n",
        "from keras.layers import Dense, Dropout, Input\n",
        "from keras.models import Model,Sequential\n",
        "from tqdm import tqdm\n",
        "from keras.layers.advanced_activations import LeakyReLU\n",
        "from keras.optimizers import Adam"
      ],
      "execution_count": 0,
      "outputs": []
    },
    {
      "cell_type": "markdown",
      "metadata": {
        "id": "CJBhP9nbxHFq",
        "colab_type": "text"
      },
      "source": [
        "## Visualización y preprocesamiento de datos\n",
        "\n",
        "---\n",
        "\n"
      ]
    },
    {
      "cell_type": "markdown",
      "metadata": {
        "id": "w3Rz2WrqPuMf",
        "colab_type": "text"
      },
      "source": [
        "### Prueba con fichero 17_a"
      ]
    },
    {
      "cell_type": "code",
      "metadata": {
        "id": "4tlzZHW8xFyR",
        "colab_type": "code",
        "colab": {
          "base_uri": "https://localhost:8080/",
          "height": 901
        },
        "outputId": "23d9ea8c-d895-409e-fcd5-7e6d4a9f0d8e"
      },
      "source": [
        "direcciones_v=pd.read_csv('17_a_direcciones.csv',sep=',')\n",
        "print(direcciones_v)\n",
        "print(direcciones_v.shape)\n",
        "direcciones=np.genfromtxt('17_a_direcciones.csv',delimiter=',')\n",
        "print(direcciones)\n",
        "print(direcciones.shape)\n",
        "puntos_v=pd.read_csv('17_a_puntos.csv',sep=',')\n",
        "print(puntos_v)\n",
        "print(puntos_v.shape)\n",
        "puntos=np.genfromtxt('17_a_puntos.csv',delimiter=',')\n",
        "print(puntos)\n",
        "print(puntos.shape)"
      ],
      "execution_count": 32,
      "outputs": [
        {
          "output_type": "stream",
          "text": [
            "      -0.923764078523375  ...  -0.94776374744804.59\n",
            "0              -0.923764  ...             -0.947764\n",
            "1              -0.923764  ...             -0.947764\n",
            "2              -0.923764  ...             -0.947764\n",
            "3              -0.923764  ...             -0.947764\n",
            "4              -0.923764  ...             -0.947764\n",
            "...                  ...  ...                   ...\n",
            "1013           -0.937844  ...             -0.934182\n",
            "1014           -0.937844  ...             -0.934182\n",
            "1015           -0.937844  ...             -0.934182\n",
            "1016           -0.937844  ...             -0.934182\n",
            "1017           -0.937844  ...             -0.934182\n",
            "\n",
            "[1018 rows x 1259 columns]\n",
            "(1018, 1259)\n",
            "[[-0.92376408 -0.91654703 -0.90399378 ... -0.9401907  -0.94578498\n",
            "  -0.94776375]\n",
            " [-0.92376408 -0.91654703 -0.90399378 ... -0.9401907  -0.94578498\n",
            "  -0.94776375]\n",
            " [-0.92376408 -0.91654703 -0.90399378 ... -0.9401907  -0.94578498\n",
            "  -0.94776375]\n",
            " ...\n",
            " [-0.93784381 -0.93195966 -0.92172482 ... -0.92463978 -0.93168862\n",
            "  -0.93418188]\n",
            " [-0.93784381 -0.93195966 -0.92172482 ... -0.92463978 -0.93168862\n",
            "  -0.93418188]\n",
            " [-0.93784381 -0.93195966 -0.92172482 ... -0.92463978 -0.93168862\n",
            "  -0.93418188]]\n",
            "(1019, 1259)\n",
            "      -0.013502617649277737  0.9216023703084879  -0.5857466785447467         0\n",
            "0                 -0.011626            0.921837            -0.578242  0.000981\n",
            "1                 -0.009748            0.922071            -0.570736  0.001963\n",
            "2                 -0.007871            0.922305            -0.563229  0.002944\n",
            "3                 -0.005993            0.922539            -0.555720  0.003925\n",
            "4                 -0.004115            0.922774            -0.548211  0.004907\n",
            "...                     ...                 ...                  ...       ...\n",
            "1013               0.173982            0.945000             0.163922  0.995093\n",
            "1014               0.175233            0.945156             0.168922  0.996075\n",
            "1015               0.176472            0.945310             0.173876  0.997056\n",
            "1016               0.177699            0.945463             0.178782  0.998037\n",
            "1017               0.178915            0.945615             0.183643  0.999019\n",
            "\n",
            "[1018 rows x 4 columns]\n",
            "(1018, 4)\n",
            "[[-1.35026176e-02  9.21602370e-01 -5.85746679e-01  0.00000000e+00]\n",
            " [-1.16256744e-02  9.21836604e-01 -5.78241624e-01  9.81354269e-04]\n",
            " [-9.74848427e-03  9.22070869e-01 -5.70735582e-01  1.96270854e-03]\n",
            " ...\n",
            " [ 1.76471728e-01  9.45310318e-01  1.73875582e-01  9.97055937e-01]\n",
            " [ 1.77698834e-01  9.45463455e-01  1.78782228e-01  9.98037291e-01]\n",
            " [ 1.78914528e-01  9.45615168e-01  1.83643243e-01  9.99018646e-01]]\n",
            "(1019, 4)\n"
          ],
          "name": "stdout"
        }
      ]
    },
    {
      "cell_type": "markdown",
      "metadata": {
        "id": "9JMVB5UCNx5h",
        "colab_type": "text"
      },
      "source": [
        "### Matriz de ruido aleatorio de forma (1019,128)"
      ]
    },
    {
      "cell_type": "code",
      "metadata": {
        "id": "gKawTGKgNxJ1",
        "colab_type": "code",
        "colab": {
          "base_uri": "https://localhost:8080/",
          "height": 153
        },
        "outputId": "11142661-fcf8-43ae-81e9-4df026e21c21"
      },
      "source": [
        "v_aleatorio=np.random.random((1019,128))\n",
        "print(v_aleatorio)\n",
        "print(v_aleatorio.shape)"
      ],
      "execution_count": 33,
      "outputs": [
        {
          "output_type": "stream",
          "text": [
            "[[0.67801569 0.3567908  0.36855205 ... 0.32237528 0.02188026 0.11358782]\n",
            " [0.71173648 0.05563133 0.56866932 ... 0.47131149 0.33742512 0.81307473]\n",
            " [0.41679122 0.12675047 0.60381848 ... 0.11115439 0.82221191 0.78666747]\n",
            " ...\n",
            " [0.31866231 0.82369266 0.77052349 ... 0.63506795 0.55723437 0.67523174]\n",
            " [0.14700239 0.90103154 0.8510812  ... 0.11928675 0.18576142 0.3188208 ]\n",
            " [0.09437547 0.63810211 0.21186771 ... 0.74848457 0.61466761 0.75740824]]\n",
            "(1019, 128)\n"
          ],
          "name": "stdout"
        }
      ]
    },
    {
      "cell_type": "markdown",
      "metadata": {
        "id": "IFVs9M31QzyZ",
        "colab_type": "text"
      },
      "source": [
        "### Concatenación de ruido con puntos para la entrada de la GAN"
      ]
    },
    {
      "cell_type": "code",
      "metadata": {
        "id": "e8muNsU7Q9Ep",
        "colab_type": "code",
        "colab": {
          "base_uri": "https://localhost:8080/",
          "height": 255
        },
        "outputId": "0fae1f4e-ed95-4472-803b-8bdbbe054142"
      },
      "source": [
        "gen_input=np.concatenate([v_aleatorio,puntos], axis=1)\n",
        "print(gen_input)\n",
        "print(gen_input.shape)"
      ],
      "execution_count": 34,
      "outputs": [
        {
          "output_type": "stream",
          "text": [
            "[[ 6.78015687e-01  3.56790799e-01  3.68552054e-01 ...  9.21602370e-01\n",
            "  -5.85746679e-01  0.00000000e+00]\n",
            " [ 7.11736477e-01  5.56313316e-02  5.68669320e-01 ...  9.21836604e-01\n",
            "  -5.78241624e-01  9.81354269e-04]\n",
            " [ 4.16791223e-01  1.26750474e-01  6.03818479e-01 ...  9.22070869e-01\n",
            "  -5.70735582e-01  1.96270854e-03]\n",
            " ...\n",
            " [ 3.18662305e-01  8.23692658e-01  7.70523489e-01 ...  9.45310318e-01\n",
            "   1.73875582e-01  9.97055937e-01]\n",
            " [ 1.47002387e-01  9.01031536e-01  8.51081198e-01 ...  9.45463455e-01\n",
            "   1.78782228e-01  9.98037291e-01]\n",
            " [ 9.43754727e-02  6.38102112e-01  2.11867714e-01 ...  9.45615168e-01\n",
            "   1.83643243e-01  9.99018646e-01]]\n",
            "(1019, 132)\n"
          ],
          "name": "stdout"
        }
      ]
    },
    {
      "cell_type": "markdown",
      "metadata": {
        "id": "RlXO-Iu1Z6pV",
        "colab_type": "text"
      },
      "source": [
        "###Función de carga de datos"
      ]
    },
    {
      "cell_type": "code",
      "metadata": {
        "id": "E7Vt314QaECc",
        "colab_type": "code",
        "colab": {
          "base_uri": "https://localhost:8080/",
          "height": 34
        },
        "outputId": "0111a888-b23c-4894-f53f-9b978cbd56e7"
      },
      "source": [
        "def load_data():\n",
        "  v_aleatorio=np.random.random((1019,128))\n",
        "  puntos=np.genfromtxt('17_a_puntos.csv',delimiter=',')\n",
        "  direcciones=np.genfromtxt('17_a_direcciones.csv',delimiter=',')\n",
        "  gen_input=np.concatenate([v_aleatorio,puntos], axis=1)\n",
        "  return (gen_input, direcciones, puntos)\n",
        "(gen_input, direcciones, puntos)=load_data()\n",
        "print(puntos.shape)"
      ],
      "execution_count": 35,
      "outputs": [
        {
          "output_type": "stream",
          "text": [
            "(1019, 4)\n"
          ],
          "name": "stdout"
        }
      ]
    },
    {
      "cell_type": "markdown",
      "metadata": {
        "id": "surPYZjVRnzt",
        "colab_type": "text"
      },
      "source": [
        "## Implementación de la GAN\n",
        "\n",
        "---\n",
        "\n"
      ]
    },
    {
      "cell_type": "markdown",
      "metadata": {
        "id": "pVjttYbzHg6C",
        "colab_type": "text"
      },
      "source": [
        "Optimizador ADAM\n"
      ]
    },
    {
      "cell_type": "code",
      "metadata": {
        "id": "0KM1b-ffHrBD",
        "colab_type": "code",
        "colab": {}
      },
      "source": [
        "def adam_optimizer():\n",
        "    return Adam(lr=0.0002, beta_1=0.5)"
      ],
      "execution_count": 0,
      "outputs": []
    },
    {
      "cell_type": "markdown",
      "metadata": {
        "id": "Xq1hL3uyHsKE",
        "colab_type": "text"
      },
      "source": [
        "Generador"
      ]
    },
    {
      "cell_type": "code",
      "metadata": {
        "id": "hVCTlRoXHyTI",
        "colab_type": "code",
        "outputId": "f64dbd6d-f66e-4961-d1e0-dddbc74b8882",
        "colab": {
          "base_uri": "https://localhost:8080/",
          "height": 391
        }
      },
      "source": [
        "def create_generator():\n",
        "  generator=Sequential()\n",
        "  generator.add(Dense(units=256,input_dim=132))\n",
        "  generator.add(LeakyReLU(0.2))\n",
        "\n",
        "  generator.add(Dense(units=512))\n",
        "  generator.add(LeakyReLU(0.2))\n",
        "\n",
        "  generator.add(Dense(units=1024))\n",
        "  generator.add(LeakyReLU(0.2))\n",
        "\n",
        "  generator.add(Dense(units=1259, activation='tanh'))\n",
        "\n",
        "  generator.compile(loss='binary_crossentropy', optimizer=adam_optimizer())\n",
        "  return generator\n",
        "\n",
        "g=create_generator()\n",
        "g.summary()\n",
        "  \n",
        "\n"
      ],
      "execution_count": 37,
      "outputs": [
        {
          "output_type": "stream",
          "text": [
            "Model: \"sequential_23\"\n",
            "_________________________________________________________________\n",
            "Layer (type)                 Output Shape              Param #   \n",
            "=================================================================\n",
            "dense_122 (Dense)            (None, 256)               34048     \n",
            "_________________________________________________________________\n",
            "leaky_re_lu_100 (LeakyReLU)  (None, 256)               0         \n",
            "_________________________________________________________________\n",
            "dense_123 (Dense)            (None, 512)               131584    \n",
            "_________________________________________________________________\n",
            "leaky_re_lu_101 (LeakyReLU)  (None, 512)               0         \n",
            "_________________________________________________________________\n",
            "dense_124 (Dense)            (None, 1024)              525312    \n",
            "_________________________________________________________________\n",
            "leaky_re_lu_102 (LeakyReLU)  (None, 1024)              0         \n",
            "_________________________________________________________________\n",
            "dense_125 (Dense)            (None, 1259)              1290475   \n",
            "=================================================================\n",
            "Total params: 1,981,419\n",
            "Trainable params: 1,981,419\n",
            "Non-trainable params: 0\n",
            "_________________________________________________________________\n"
          ],
          "name": "stdout"
        }
      ]
    },
    {
      "cell_type": "markdown",
      "metadata": {
        "id": "z9ke-a1hHyiE",
        "colab_type": "text"
      },
      "source": [
        "Discriminador"
      ]
    },
    {
      "cell_type": "code",
      "metadata": {
        "id": "UpK_eVF-H3V7",
        "colab_type": "code",
        "outputId": "0432bf0f-2be4-4382-f17a-8e6a2bd515f3",
        "colab": {
          "base_uri": "https://localhost:8080/",
          "height": 595
        }
      },
      "source": [
        "def create_discriminator():\n",
        "    discriminator=Sequential()\n",
        "    discriminator.add(Dense(units=1024,input_dim=1263))\n",
        "    discriminator.add(LeakyReLU(0.2))\n",
        "       \n",
        "    discriminator.add(Dense(units=512))\n",
        "    discriminator.add(LeakyReLU(0.2))\n",
        "       \n",
        "    discriminator.add(Dense(units=256))\n",
        "    discriminator.add(LeakyReLU(0.2))\n",
        "\n",
        "    discriminator.add(Dense(units=128))\n",
        "    discriminator.add(LeakyReLU(0.2))\n",
        "\n",
        "    discriminator.add(Dense(units=64))\n",
        "    discriminator.add(LeakyReLU(0.2))\n",
        "\n",
        "    discriminator.add(Dense(units=32))\n",
        "    discriminator.add(LeakyReLU(0.2))\n",
        "    \n",
        "    discriminator.add(Dense(units=1, activation='softmax'))\n",
        "    \n",
        "    discriminator.compile(loss='binary_crossentropy', optimizer=adam_optimizer())\n",
        "    return discriminator\n",
        "d =create_discriminator()\n",
        "d.summary()"
      ],
      "execution_count": 38,
      "outputs": [
        {
          "output_type": "stream",
          "text": [
            "Model: \"sequential_24\"\n",
            "_________________________________________________________________\n",
            "Layer (type)                 Output Shape              Param #   \n",
            "=================================================================\n",
            "dense_126 (Dense)            (None, 1024)              1294336   \n",
            "_________________________________________________________________\n",
            "leaky_re_lu_103 (LeakyReLU)  (None, 1024)              0         \n",
            "_________________________________________________________________\n",
            "dense_127 (Dense)            (None, 512)               524800    \n",
            "_________________________________________________________________\n",
            "leaky_re_lu_104 (LeakyReLU)  (None, 512)               0         \n",
            "_________________________________________________________________\n",
            "dense_128 (Dense)            (None, 256)               131328    \n",
            "_________________________________________________________________\n",
            "leaky_re_lu_105 (LeakyReLU)  (None, 256)               0         \n",
            "_________________________________________________________________\n",
            "dense_129 (Dense)            (None, 128)               32896     \n",
            "_________________________________________________________________\n",
            "leaky_re_lu_106 (LeakyReLU)  (None, 128)               0         \n",
            "_________________________________________________________________\n",
            "dense_130 (Dense)            (None, 64)                8256      \n",
            "_________________________________________________________________\n",
            "leaky_re_lu_107 (LeakyReLU)  (None, 64)                0         \n",
            "_________________________________________________________________\n",
            "dense_131 (Dense)            (None, 32)                2080      \n",
            "_________________________________________________________________\n",
            "leaky_re_lu_108 (LeakyReLU)  (None, 32)                0         \n",
            "_________________________________________________________________\n",
            "dense_132 (Dense)            (None, 1)                 33        \n",
            "=================================================================\n",
            "Total params: 1,993,729\n",
            "Trainable params: 1,993,729\n",
            "Non-trainable params: 0\n",
            "_________________________________________________________________\n"
          ],
          "name": "stdout"
        }
      ]
    },
    {
      "cell_type": "markdown",
      "metadata": {
        "id": "e-tLWnrmH3p1",
        "colab_type": "text"
      },
      "source": [
        "GAN"
      ]
    },
    {
      "cell_type": "code",
      "metadata": {
        "id": "0coXdbcaH5A3",
        "colab_type": "code",
        "outputId": "d6d29156-748e-406f-e014-518b0a2e78f9",
        "colab": {
          "base_uri": "https://localhost:8080/",
          "height": 394
        }
      },
      "source": [
        "def create_gan(discriminator, generator):\n",
        "  discriminator.trainable=False\n",
        "  gan_input = Input(shape=(132,))\n",
        "  x = generator(gan_input)\n",
        "  p = Input(shape=(4,))\n",
        "  x = keras.layers.Concatenate()([x,p])\n",
        "  gan_output=discriminator(x)\n",
        "  gan = Model(inputs=[gan_input, p], output=gan_output)\n",
        "  gan.compile(loss='binary_crossentropy', optimizer='adam')\n",
        "  return gan\n",
        "\n",
        "gan=create_gan(d,g)\n",
        "gan.summary()"
      ],
      "execution_count": 39,
      "outputs": [
        {
          "output_type": "stream",
          "text": [
            "Model: \"model_12\"\n",
            "__________________________________________________________________________________________________\n",
            "Layer (type)                    Output Shape         Param #     Connected to                     \n",
            "==================================================================================================\n",
            "input_23 (InputLayer)           (None, 132)          0                                            \n",
            "__________________________________________________________________________________________________\n",
            "sequential_23 (Sequential)      (None, 1259)         1981419     input_23[0][0]                   \n",
            "__________________________________________________________________________________________________\n",
            "input_24 (InputLayer)           (None, 4)            0                                            \n",
            "__________________________________________________________________________________________________\n",
            "concatenate_12 (Concatenate)    (None, 1263)         0           sequential_23[1][0]              \n",
            "                                                                 input_24[0][0]                   \n",
            "__________________________________________________________________________________________________\n",
            "sequential_24 (Sequential)      (None, 1)            1993729     concatenate_12[0][0]             \n",
            "==================================================================================================\n",
            "Total params: 3,975,148\n",
            "Trainable params: 1,981,419\n",
            "Non-trainable params: 1,993,729\n",
            "__________________________________________________________________________________________________\n"
          ],
          "name": "stdout"
        },
        {
          "output_type": "stream",
          "text": [
            "/usr/local/lib/python3.6/dist-packages/ipykernel_launcher.py:8: UserWarning: Update your `Model` call to the Keras 2 API: `Model(inputs=[<tf.Tenso..., outputs=Tensor(\"se...)`\n",
            "  \n"
          ],
          "name": "stderr"
        }
      ]
    },
    {
      "cell_type": "markdown",
      "metadata": {
        "id": "uA8rNjv_IFvk",
        "colab_type": "text"
      },
      "source": [
        "## Entrenamiento"
      ]
    },
    {
      "cell_type": "code",
      "metadata": {
        "id": "sVUjBlQvIFiQ",
        "colab_type": "code",
        "colab": {}
      },
      "source": [
        "def training(epochs=1, batch_size=1019):\n",
        "    \n",
        "    # Cargando datos\n",
        "    (gen_input, direcciones, puntos)=load_data()\n",
        "\n",
        "    # Creando GAN\n",
        "    generator = create_generator()\n",
        "    discriminator = create_discriminator()\n",
        "    gan = create_gan(discriminator, generator)\n",
        "    \n",
        "    for e in range(1,epochs+1 ):\n",
        "        print(\"Epoch %d\" %e)\n",
        "        for _ in tqdm(range(batch_size)):\n",
        "            # Generando imagenes falsas sin puntos\n",
        "            generated_images = generator.predict(gen_input)\n",
        "            \n",
        "            # Concatenando imagenes generadas con sus puntos\n",
        "            generated_images = np.concatenate([generated_images, puntos], axis=1)\n",
        "            \n",
        "            # Concatenar imagenes reales con sus puntos\n",
        "            image_batch = np.concatenate([direcciones, puntos], axis=1)\n",
        "\n",
        "            # Concatenar imagenes reales y falsas \n",
        "            X = np.concatenate([image_batch, generated_images])\n",
        "            \n",
        "            # Etiquetas para datos generados y reales\n",
        "            y_dis = np.zeros(2*batch_size)\n",
        "            y_dis[:batch_size] = 0.9\n",
        "            \n",
        "            # Pre entrenamiento del discriminador sobre datos falsos y reales antes de entrenar la GAN \n",
        "            discriminator.trainable = True\n",
        "            discriminator.train_on_batch(X, y_dis)\n",
        "            \n",
        "            #Tricking the noised input of the Generator as real data\n",
        "            y_gen = np.ones(batch_size)\n",
        "            \n",
        "            # During the training of gan, \n",
        "            # the weights of discriminator should be fixed. \n",
        "            #We can enforce that by setting the trainable flag\n",
        "            discriminator.trainable=False\n",
        "            \n",
        "            #training  the GAN by alternating the training of the Discriminator \n",
        "            #and training the chained GAN model with Discriminator’s weights freezed.\n",
        "            gan.train_on_batch([gen_input, puntos], y_gen)\n",
        "            \n",
        "        #if e == 1 or e % 20 == 0:\n",
        "           \n",
        "        #    plot_generated_images(e, generator)\n",
        "training(400,1019)\n",
        "\n",
        "#guardar el modelo"
      ],
      "execution_count": 0,
      "outputs": []
    },
    {
      "cell_type": "markdown",
      "metadata": {
        "id": "mSguEPx-H_D6",
        "colab_type": "text"
      },
      "source": [
        "###Postprocesado de datos de salida"
      ]
    }
  ]
}