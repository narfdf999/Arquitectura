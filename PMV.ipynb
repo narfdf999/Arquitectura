{
  "nbformat": 4,
  "nbformat_minor": 0,
  "metadata": {
    "colab": {
      "name": "PMV.ipynb",
      "provenance": [],
      "collapsed_sections": [],
      "include_colab_link": true
    },
    "kernelspec": {
      "name": "python3",
      "display_name": "Python 3"
    }
  },
  "cells": [
    {
      "cell_type": "markdown",
      "metadata": {
        "id": "view-in-github",
        "colab_type": "text"
      },
      "source": [
        "<a href=\"https://colab.research.google.com/github/narfdf999/Arquitectura/blob/master/PMV.ipynb\" target=\"_parent\"><img src=\"https://colab.research.google.com/assets/colab-badge.svg\" alt=\"Open In Colab\"/></a>"
      ]
    },
    {
      "cell_type": "markdown",
      "metadata": {
        "id": "p9OQ9H-QGxIy",
        "colab_type": "text"
      },
      "source": [
        "# ***Primera aproximación al problema de generar edificio a lo largo de un camino dibujado por el arquitecto***"
      ]
    },
    {
      "cell_type": "markdown",
      "metadata": {
        "id": "i-mcvveFHM6T",
        "colab_type": "text"
      },
      "source": [
        "## Librerías\n",
        "\n",
        "---\n",
        "\n"
      ]
    },
    {
      "cell_type": "code",
      "metadata": {
        "id": "qBX7BIByom0a",
        "colab_type": "code",
        "colab": {
          "base_uri": "https://localhost:8080/",
          "height": 80
        },
        "outputId": "0d579711-9fde-4759-9117-13402fd3576b"
      },
      "source": [
        "import tensorflow as tf\n",
        "import numpy as np\n",
        "import pandas as pd\n",
        "import csv\n",
        "import matplotlib.pyplot as plt\n",
        "%matplotlib inline\n",
        "import keras\n",
        "from keras.layers import Dense, Dropout, Input\n",
        "from keras.models import Model,Sequential\n",
        "from tqdm import tqdm\n",
        "from keras.layers.advanced_activations import LeakyReLU\n",
        "from keras.optimizers import Adam"
      ],
      "execution_count": 1,
      "outputs": [
        {
          "output_type": "display_data",
          "data": {
            "text/html": [
              "<p style=\"color: red;\">\n",
              "The default version of TensorFlow in Colab will soon switch to TensorFlow 2.x.<br>\n",
              "We recommend you <a href=\"https://www.tensorflow.org/guide/migrate\" target=\"_blank\">upgrade</a> now \n",
              "or ensure your notebook will continue to use TensorFlow 1.x via the <code>%tensorflow_version 1.x</code> magic:\n",
              "<a href=\"https://colab.research.google.com/notebooks/tensorflow_version.ipynb\" target=\"_blank\">more info</a>.</p>\n"
            ],
            "text/plain": [
              "<IPython.core.display.HTML object>"
            ]
          },
          "metadata": {
            "tags": []
          }
        },
        {
          "output_type": "stream",
          "text": [
            "Using TensorFlow backend.\n"
          ],
          "name": "stderr"
        }
      ]
    },
    {
      "cell_type": "markdown",
      "metadata": {
        "id": "CJBhP9nbxHFq",
        "colab_type": "text"
      },
      "source": [
        "## Visualización y preprocesamiento de datos\n",
        "\n",
        "---\n",
        "\n"
      ]
    },
    {
      "cell_type": "markdown",
      "metadata": {
        "id": "w3Rz2WrqPuMf",
        "colab_type": "text"
      },
      "source": [
        "### Prueba con fichero 17_a"
      ]
    },
    {
      "cell_type": "code",
      "metadata": {
        "id": "4tlzZHW8xFyR",
        "colab_type": "code",
        "colab": {
          "base_uri": "https://localhost:8080/",
          "height": 901
        },
        "outputId": "deba7a04-fc63-46e1-fa16-1b3a2234a969"
      },
      "source": [
        "direcciones_v=pd.read_csv('17_a_direcciones.csv',sep=',')\n",
        "print(direcciones_v)\n",
        "print(direcciones_v.shape)\n",
        "direcciones=np.genfromtxt('17_a_direcciones.csv',delimiter=',')\n",
        "print(direcciones)\n",
        "print(direcciones.shape)\n",
        "puntos_v=pd.read_csv('17_a_puntos.csv',sep=',')\n",
        "print(puntos_v)\n",
        "print(puntos_v.shape)\n",
        "puntos=np.genfromtxt('17_a_puntos.csv',delimiter=',')\n",
        "print(puntos)\n",
        "print(puntos.shape)"
      ],
      "execution_count": 8,
      "outputs": [
        {
          "output_type": "stream",
          "text": [
            "      -0.923764078523375  ...  -0.94776374744804.59\n",
            "0              -0.923764  ...             -0.947764\n",
            "1              -0.923764  ...             -0.947764\n",
            "2              -0.923764  ...             -0.947764\n",
            "3              -0.923764  ...             -0.947764\n",
            "4              -0.923764  ...             -0.947764\n",
            "...                  ...  ...                   ...\n",
            "1013           -0.937844  ...             -0.934182\n",
            "1014           -0.937844  ...             -0.934182\n",
            "1015           -0.937844  ...             -0.934182\n",
            "1016           -0.937844  ...             -0.934182\n",
            "1017           -0.937844  ...             -0.934182\n",
            "\n",
            "[1018 rows x 1259 columns]\n",
            "(1018, 1259)\n",
            "[[-0.92376408 -0.91654703 -0.90399378 ... -0.9401907  -0.94578498\n",
            "  -0.94776375]\n",
            " [-0.92376408 -0.91654703 -0.90399378 ... -0.9401907  -0.94578498\n",
            "  -0.94776375]\n",
            " [-0.92376408 -0.91654703 -0.90399378 ... -0.9401907  -0.94578498\n",
            "  -0.94776375]\n",
            " ...\n",
            " [-0.93784381 -0.93195966 -0.92172482 ... -0.92463978 -0.93168862\n",
            "  -0.93418188]\n",
            " [-0.93784381 -0.93195966 -0.92172482 ... -0.92463978 -0.93168862\n",
            "  -0.93418188]\n",
            " [-0.93784381 -0.93195966 -0.92172482 ... -0.92463978 -0.93168862\n",
            "  -0.93418188]]\n",
            "(1019, 1259)\n",
            "      -0.013502617649277737  0.9216023703084879  -0.5857466785447467         0\n",
            "0                 -0.011626            0.921837            -0.578242  0.000981\n",
            "1                 -0.009748            0.922071            -0.570736  0.001963\n",
            "2                 -0.007871            0.922305            -0.563229  0.002944\n",
            "3                 -0.005993            0.922539            -0.555720  0.003925\n",
            "4                 -0.004115            0.922774            -0.548211  0.004907\n",
            "...                     ...                 ...                  ...       ...\n",
            "1013               0.173982            0.945000             0.163922  0.995093\n",
            "1014               0.175233            0.945156             0.168922  0.996075\n",
            "1015               0.176472            0.945310             0.173876  0.997056\n",
            "1016               0.177699            0.945463             0.178782  0.998037\n",
            "1017               0.178915            0.945615             0.183643  0.999019\n",
            "\n",
            "[1018 rows x 4 columns]\n",
            "(1018, 4)\n",
            "[[-1.35026176e-02  9.21602370e-01 -5.85746679e-01  0.00000000e+00]\n",
            " [-1.16256744e-02  9.21836604e-01 -5.78241624e-01  9.81354269e-04]\n",
            " [-9.74848427e-03  9.22070869e-01 -5.70735582e-01  1.96270854e-03]\n",
            " ...\n",
            " [ 1.76471728e-01  9.45310318e-01  1.73875582e-01  9.97055937e-01]\n",
            " [ 1.77698834e-01  9.45463455e-01  1.78782228e-01  9.98037291e-01]\n",
            " [ 1.78914528e-01  9.45615168e-01  1.83643243e-01  9.99018646e-01]]\n",
            "(1019, 4)\n"
          ],
          "name": "stdout"
        }
      ]
    },
    {
      "cell_type": "markdown",
      "metadata": {
        "id": "9JMVB5UCNx5h",
        "colab_type": "text"
      },
      "source": [
        "### Matriz de ruido aleatorio de forma (1019,128)"
      ]
    },
    {
      "cell_type": "code",
      "metadata": {
        "id": "gKawTGKgNxJ1",
        "colab_type": "code",
        "colab": {
          "base_uri": "https://localhost:8080/",
          "height": 153
        },
        "outputId": "a45f8e83-ac7c-435f-f054-86af209e804b"
      },
      "source": [
        "v_aleatorio=np.random.random((1019,128))\n",
        "print(v_aleatorio)\n",
        "print(v_aleatorio.shape)"
      ],
      "execution_count": 10,
      "outputs": [
        {
          "output_type": "stream",
          "text": [
            "[[0.3311625  0.37076839 0.11976353 ... 0.59068364 0.68798263 0.55211693]\n",
            " [0.61709054 0.95573608 0.53073195 ... 0.66753843 0.97285412 0.44090502]\n",
            " [0.2564563  0.54718938 0.88359918 ... 0.94994209 0.39674961 0.97691121]\n",
            " ...\n",
            " [0.02886195 0.06331291 0.47179617 ... 0.37323079 0.02448928 0.12389139]\n",
            " [0.24763466 0.22670585 0.69965164 ... 0.74398553 0.50455257 0.19077683]\n",
            " [0.47962823 0.4108557  0.15178256 ... 0.76361444 0.1268029  0.43931936]]\n",
            "(1019, 128)\n"
          ],
          "name": "stdout"
        }
      ]
    },
    {
      "cell_type": "markdown",
      "metadata": {
        "id": "IFVs9M31QzyZ",
        "colab_type": "text"
      },
      "source": [
        "### Concatenación de ruido con puntos para la entrada de la GAN"
      ]
    },
    {
      "cell_type": "code",
      "metadata": {
        "id": "e8muNsU7Q9Ep",
        "colab_type": "code",
        "colab": {
          "base_uri": "https://localhost:8080/",
          "height": 255
        },
        "outputId": "223d76bd-e2b1-40aa-d530-5511c5f1c5e4"
      },
      "source": [
        "gen_input=np.concatenate([v_aleatorio,puntos], axis=1)\n",
        "print(gen_input)\n",
        "print(gen_input.shape)"
      ],
      "execution_count": 14,
      "outputs": [
        {
          "output_type": "stream",
          "text": [
            "[[ 3.31162498e-01  3.70768394e-01  1.19763530e-01 ...  9.21602370e-01\n",
            "  -5.85746679e-01  0.00000000e+00]\n",
            " [ 6.17090545e-01  9.55736082e-01  5.30731952e-01 ...  9.21836604e-01\n",
            "  -5.78241624e-01  9.81354269e-04]\n",
            " [ 2.56456300e-01  5.47189379e-01  8.83599177e-01 ...  9.22070869e-01\n",
            "  -5.70735582e-01  1.96270854e-03]\n",
            " ...\n",
            " [ 2.88619524e-02  6.33129097e-02  4.71796173e-01 ...  9.45310318e-01\n",
            "   1.73875582e-01  9.97055937e-01]\n",
            " [ 2.47634665e-01  2.26705850e-01  6.99651636e-01 ...  9.45463455e-01\n",
            "   1.78782228e-01  9.98037291e-01]\n",
            " [ 4.79628226e-01  4.10855701e-01  1.51782558e-01 ...  9.45615168e-01\n",
            "   1.83643243e-01  9.99018646e-01]]\n",
            "(1019, 132)\n"
          ],
          "name": "stdout"
        }
      ]
    },
    {
      "cell_type": "markdown",
      "metadata": {
        "id": "pVjttYbzHg6C",
        "colab_type": "text"
      },
      "source": [
        "Optimizador ADAM\n"
      ]
    },
    {
      "cell_type": "code",
      "metadata": {
        "id": "0KM1b-ffHrBD",
        "colab_type": "code",
        "colab": {}
      },
      "source": [
        "def adam_optimizer():\n",
        "    return Adam(lr=0.0002, beta_1=0.5)"
      ],
      "execution_count": 0,
      "outputs": []
    },
    {
      "cell_type": "markdown",
      "metadata": {
        "id": "surPYZjVRnzt",
        "colab_type": "text"
      },
      "source": [
        "## Implementación de la GAN\n",
        "\n",
        "---\n",
        "\n"
      ]
    },
    {
      "cell_type": "markdown",
      "metadata": {
        "id": "Xq1hL3uyHsKE",
        "colab_type": "text"
      },
      "source": [
        "Generador"
      ]
    },
    {
      "cell_type": "code",
      "metadata": {
        "id": "hVCTlRoXHyTI",
        "colab_type": "code",
        "outputId": "f419067f-0b1e-4756-863b-3f5865cf727a",
        "colab": {
          "base_uri": "https://localhost:8080/",
          "height": 632
        }
      },
      "source": [
        "def create_generator():\n",
        "  generator=Sequential()\n",
        "  generator.add(Dense(units=256,input_dim=132))\n",
        "  generator.add(LeakyReLU(0.2))\n",
        "\n",
        "  generator.add(Dense(units=512))\n",
        "  generator.add(LeakyReLU(0.2))\n",
        "\n",
        "  generator.add(Dense(units=1024))\n",
        "  generator.add(LeakyReLU(0.2))\n",
        "\n",
        "  generator.add(Dense(units=1259, activation='tanh'))\n",
        "  #poner la salida a 1259 \n",
        "\n",
        "  generator.compile(loss='binary_crossentropy', optimizer=adam_optimizer())\n",
        "  return generator\n",
        "  \n",
        "g=create_generator()\n",
        "g.summary()\n",
        "  \n",
        "\n"
      ],
      "execution_count": 15,
      "outputs": [
        {
          "output_type": "stream",
          "text": [
            "WARNING:tensorflow:From /usr/local/lib/python3.6/dist-packages/keras/backend/tensorflow_backend.py:66: The name tf.get_default_graph is deprecated. Please use tf.compat.v1.get_default_graph instead.\n",
            "\n",
            "WARNING:tensorflow:From /usr/local/lib/python3.6/dist-packages/keras/backend/tensorflow_backend.py:541: The name tf.placeholder is deprecated. Please use tf.compat.v1.placeholder instead.\n",
            "\n",
            "WARNING:tensorflow:From /usr/local/lib/python3.6/dist-packages/keras/backend/tensorflow_backend.py:4432: The name tf.random_uniform is deprecated. Please use tf.random.uniform instead.\n",
            "\n",
            "WARNING:tensorflow:From /usr/local/lib/python3.6/dist-packages/keras/optimizers.py:793: The name tf.train.Optimizer is deprecated. Please use tf.compat.v1.train.Optimizer instead.\n",
            "\n",
            "WARNING:tensorflow:From /usr/local/lib/python3.6/dist-packages/keras/backend/tensorflow_backend.py:3657: The name tf.log is deprecated. Please use tf.math.log instead.\n",
            "\n",
            "WARNING:tensorflow:From /usr/local/lib/python3.6/dist-packages/tensorflow_core/python/ops/nn_impl.py:183: where (from tensorflow.python.ops.array_ops) is deprecated and will be removed in a future version.\n",
            "Instructions for updating:\n",
            "Use tf.where in 2.0, which has the same broadcast rule as np.where\n",
            "Model: \"sequential_1\"\n",
            "_________________________________________________________________\n",
            "Layer (type)                 Output Shape              Param #   \n",
            "=================================================================\n",
            "dense_1 (Dense)              (None, 256)               34048     \n",
            "_________________________________________________________________\n",
            "leaky_re_lu_1 (LeakyReLU)    (None, 256)               0         \n",
            "_________________________________________________________________\n",
            "dense_2 (Dense)              (None, 512)               131584    \n",
            "_________________________________________________________________\n",
            "leaky_re_lu_2 (LeakyReLU)    (None, 512)               0         \n",
            "_________________________________________________________________\n",
            "dense_3 (Dense)              (None, 1024)              525312    \n",
            "_________________________________________________________________\n",
            "leaky_re_lu_3 (LeakyReLU)    (None, 1024)              0         \n",
            "_________________________________________________________________\n",
            "dense_4 (Dense)              (None, 1259)              1290475   \n",
            "=================================================================\n",
            "Total params: 1,981,419\n",
            "Trainable params: 1,981,419\n",
            "Non-trainable params: 0\n",
            "_________________________________________________________________\n"
          ],
          "name": "stdout"
        }
      ]
    },
    {
      "cell_type": "markdown",
      "metadata": {
        "id": "z9ke-a1hHyiE",
        "colab_type": "text"
      },
      "source": [
        "Discriminador"
      ]
    },
    {
      "cell_type": "code",
      "metadata": {
        "id": "UpK_eVF-H3V7",
        "colab_type": "code",
        "outputId": "99034129-e45d-4860-f340-821c40c8c9ad",
        "colab": {
          "base_uri": "https://localhost:8080/",
          "height": 595
        }
      },
      "source": [
        "def create_discriminator():\n",
        "    discriminator=Sequential()\n",
        "    discriminator.add(Dense(units=1024,input_dim=1263))\n",
        "    discriminator.add(LeakyReLU(0.2))\n",
        "       \n",
        "    discriminator.add(Dense(units=512))\n",
        "    discriminator.add(LeakyReLU(0.2))\n",
        "       \n",
        "    discriminator.add(Dense(units=256))\n",
        "    discriminator.add(LeakyReLU(0.2))\n",
        "\n",
        "    discriminator.add(Dense(units=128))\n",
        "    discriminator.add(LeakyReLU(0.2))\n",
        "\n",
        "    discriminator.add(Dense(units=64))\n",
        "    discriminator.add(LeakyReLU(0.2))\n",
        "\n",
        "    discriminator.add(Dense(units=32))\n",
        "    discriminator.add(LeakyReLU(0.2))\n",
        "    \n",
        "    discriminator.add(Dense(units=1, activation='softmax'))\n",
        "    \n",
        "    discriminator.compile(loss='binary_crossentropy', optimizer=adam_optimizer())\n",
        "    return discriminator\n",
        "d =create_discriminator()\n",
        "d.summary()"
      ],
      "execution_count": 16,
      "outputs": [
        {
          "output_type": "stream",
          "text": [
            "Model: \"sequential_2\"\n",
            "_________________________________________________________________\n",
            "Layer (type)                 Output Shape              Param #   \n",
            "=================================================================\n",
            "dense_5 (Dense)              (None, 1024)              1294336   \n",
            "_________________________________________________________________\n",
            "leaky_re_lu_4 (LeakyReLU)    (None, 1024)              0         \n",
            "_________________________________________________________________\n",
            "dense_6 (Dense)              (None, 512)               524800    \n",
            "_________________________________________________________________\n",
            "leaky_re_lu_5 (LeakyReLU)    (None, 512)               0         \n",
            "_________________________________________________________________\n",
            "dense_7 (Dense)              (None, 256)               131328    \n",
            "_________________________________________________________________\n",
            "leaky_re_lu_6 (LeakyReLU)    (None, 256)               0         \n",
            "_________________________________________________________________\n",
            "dense_8 (Dense)              (None, 128)               32896     \n",
            "_________________________________________________________________\n",
            "leaky_re_lu_7 (LeakyReLU)    (None, 128)               0         \n",
            "_________________________________________________________________\n",
            "dense_9 (Dense)              (None, 64)                8256      \n",
            "_________________________________________________________________\n",
            "leaky_re_lu_8 (LeakyReLU)    (None, 64)                0         \n",
            "_________________________________________________________________\n",
            "dense_10 (Dense)             (None, 32)                2080      \n",
            "_________________________________________________________________\n",
            "leaky_re_lu_9 (LeakyReLU)    (None, 32)                0         \n",
            "_________________________________________________________________\n",
            "dense_11 (Dense)             (None, 1)                 33        \n",
            "=================================================================\n",
            "Total params: 1,993,729\n",
            "Trainable params: 1,993,729\n",
            "Non-trainable params: 0\n",
            "_________________________________________________________________\n"
          ],
          "name": "stdout"
        }
      ]
    },
    {
      "cell_type": "markdown",
      "metadata": {
        "id": "e-tLWnrmH3p1",
        "colab_type": "text"
      },
      "source": [
        "GAN"
      ]
    },
    {
      "cell_type": "code",
      "metadata": {
        "id": "0coXdbcaH5A3",
        "colab_type": "code",
        "outputId": "cb0d3c86-49c8-476a-d70e-5b5e466348ce",
        "colab": {
          "base_uri": "https://localhost:8080/",
          "height": 394
        }
      },
      "source": [
        "def create_gan(discriminator, generator):\n",
        "  discriminator.trainable=False\n",
        "  gan_input = Input(shape=(132,))\n",
        "  x = generator(gan_input)\n",
        "  p = Input(shape=(4,))\n",
        "  x = keras.layers.Concatenate()([x,p])\n",
        "  gan_output=discriminator(x)\n",
        "  gan = Model(inputs=[gan_input, p], output=gan_output)\n",
        "  gan.compile(loss='binary_crossentropy', optimizer='adam')\n",
        "  return gan\n",
        "\n",
        "gan=create_gan(d,g)\n",
        "gan.summary()"
      ],
      "execution_count": 17,
      "outputs": [
        {
          "output_type": "stream",
          "text": [
            "Model: \"model_1\"\n",
            "__________________________________________________________________________________________________\n",
            "Layer (type)                    Output Shape         Param #     Connected to                     \n",
            "==================================================================================================\n",
            "input_1 (InputLayer)            (None, 132)          0                                            \n",
            "__________________________________________________________________________________________________\n",
            "sequential_1 (Sequential)       (None, 1259)         1981419     input_1[0][0]                    \n",
            "__________________________________________________________________________________________________\n",
            "input_2 (InputLayer)            (None, 4)            0                                            \n",
            "__________________________________________________________________________________________________\n",
            "concatenate_1 (Concatenate)     (None, 1263)         0           sequential_1[1][0]               \n",
            "                                                                 input_2[0][0]                    \n",
            "__________________________________________________________________________________________________\n",
            "sequential_2 (Sequential)       (None, 1)            1993729     concatenate_1[0][0]              \n",
            "==================================================================================================\n",
            "Total params: 3,975,148\n",
            "Trainable params: 1,981,419\n",
            "Non-trainable params: 1,993,729\n",
            "__________________________________________________________________________________________________\n"
          ],
          "name": "stdout"
        },
        {
          "output_type": "stream",
          "text": [
            "/usr/local/lib/python3.6/dist-packages/ipykernel_launcher.py:8: UserWarning: Update your `Model` call to the Keras 2 API: `Model(inputs=[<tf.Tenso..., outputs=Tensor(\"se...)`\n",
            "  \n"
          ],
          "name": "stderr"
        }
      ]
    },
    {
      "cell_type": "markdown",
      "metadata": {
        "id": "uA8rNjv_IFvk",
        "colab_type": "text"
      },
      "source": [
        "## Entrenamiento"
      ]
    },
    {
      "cell_type": "code",
      "metadata": {
        "id": "sVUjBlQvIFiQ",
        "colab_type": "code",
        "outputId": "6aa007e5-2527-40fd-f05a-b66337d86b8d",
        "colab": {
          "base_uri": "https://localhost:8080/",
          "height": 316
        }
      },
      "source": [
        "def training(epochs=1, batch_size=12):\n",
        "    \n",
        "    #Loading the data\n",
        "    #(X_train, y_train, X_test, y_test) = load_data()\n",
        "    batch_count = X_train.shape[0] / batch_size\n",
        "    \n",
        "    # Creating GAN\n",
        "    generator= create_generator()\n",
        "    discriminator= create_discriminator()\n",
        "    gan = create_gan(discriminator, generator)\n",
        "    \n",
        "    for e in range(1,epochs+1 ):\n",
        "        print(\"Epoch %d\" %e)\n",
        "        for _ in tqdm(range(batch_size)):\n",
        "        #generate  random noise as an input  to  initialize the  generator\n",
        "            noise= np.random.normal(0,1, [batch_size, 132])\n",
        "            # cambiar a 128\n",
        "            \n",
        "            # Generate fake MNIST images from noised input\n",
        "            generated_images = generator.predict(noise)\n",
        "            print(generated_images.shape)\n",
        "            \n",
        "            # Get a random set of  real images\n",
        "            image_batch =X_train[np.random.randint(low=0,high=X_train.shape[0],size=batch_size)]\n",
        "            print(image_batch.shape)\n",
        "            \n",
        "            #Construct different batches of  real and fake data \n",
        "            X= np.concatenate([image_batch, generated_images])\n",
        "            \n",
        "            # Labels for generated and real data\n",
        "            y_dis=np.zeros(2*batch_size)\n",
        "            y_dis[:batch_size]=0.9\n",
        "            \n",
        "            #Pre train discriminator on  fake and real data  before starting the gan. \n",
        "            discriminator.trainable=True\n",
        "            discriminator.train_on_batch(X, y_dis)\n",
        "            \n",
        "            #Tricking the noised input of the Generator as real data\n",
        "            noise= np.random.normal(0,1, [batch_size, 132])\n",
        "            y_gen = np.ones(batch_size)\n",
        "            \n",
        "            # During the training of gan, \n",
        "            # the weights of discriminator should be fixed. \n",
        "            #We can enforce that by setting the trainable flag\n",
        "            discriminator.trainable=False\n",
        "            \n",
        "            #training  the GAN by alternating the training of the Discriminator \n",
        "            #and training the chained GAN model with Discriminator’s weights freezed.\n",
        "            gan.train_on_batch(noise, y_gen)\n",
        "            \n",
        "        if e == 1 or e % 20 == 0:\n",
        "           \n",
        "            plot_generated_images(e, generator)\n",
        "training(400,128)"
      ],
      "execution_count": 0,
      "outputs": [
        {
          "output_type": "error",
          "ename": "NameError",
          "evalue": "ignored",
          "traceback": [
            "\u001b[0;31m---------------------------------------------------------------------------\u001b[0m",
            "\u001b[0;31mNameError\u001b[0m                                 Traceback (most recent call last)",
            "\u001b[0;32m<ipython-input-51-2003b5657507>\u001b[0m in \u001b[0;36m<module>\u001b[0;34m()\u001b[0m\n\u001b[1;32m     61\u001b[0m \u001b[0;34m\u001b[0m\u001b[0m\n\u001b[1;32m     62\u001b[0m             \u001b[0mplot_generated_images\u001b[0m\u001b[0;34m(\u001b[0m\u001b[0me\u001b[0m\u001b[0;34m,\u001b[0m \u001b[0mgenerator\u001b[0m\u001b[0;34m)\u001b[0m\u001b[0;34m\u001b[0m\u001b[0;34m\u001b[0m\u001b[0m\n\u001b[0;32m---> 63\u001b[0;31m \u001b[0mtraining\u001b[0m\u001b[0;34m(\u001b[0m\u001b[0;36m400\u001b[0m\u001b[0;34m,\u001b[0m\u001b[0;36m128\u001b[0m\u001b[0;34m)\u001b[0m\u001b[0;34m\u001b[0m\u001b[0;34m\u001b[0m\u001b[0m\n\u001b[0m",
            "\u001b[0;32m<ipython-input-51-2003b5657507>\u001b[0m in \u001b[0;36mtraining\u001b[0;34m(epochs, batch_size)\u001b[0m\n\u001b[1;32m      3\u001b[0m     \u001b[0;31m#Loading the data\u001b[0m\u001b[0;34m\u001b[0m\u001b[0;34m\u001b[0m\u001b[0;34m\u001b[0m\u001b[0m\n\u001b[1;32m      4\u001b[0m     \u001b[0;31m#(X_train, y_train, X_test, y_test) = load_data()\u001b[0m\u001b[0;34m\u001b[0m\u001b[0;34m\u001b[0m\u001b[0;34m\u001b[0m\u001b[0m\n\u001b[0;32m----> 5\u001b[0;31m     \u001b[0mbatch_count\u001b[0m \u001b[0;34m=\u001b[0m \u001b[0mX_train\u001b[0m\u001b[0;34m.\u001b[0m\u001b[0mshape\u001b[0m\u001b[0;34m[\u001b[0m\u001b[0;36m0\u001b[0m\u001b[0;34m]\u001b[0m \u001b[0;34m/\u001b[0m \u001b[0mbatch_size\u001b[0m\u001b[0;34m\u001b[0m\u001b[0;34m\u001b[0m\u001b[0m\n\u001b[0m\u001b[1;32m      6\u001b[0m \u001b[0;34m\u001b[0m\u001b[0m\n\u001b[1;32m      7\u001b[0m     \u001b[0;31m# Creating GAN\u001b[0m\u001b[0;34m\u001b[0m\u001b[0;34m\u001b[0m\u001b[0;34m\u001b[0m\u001b[0m\n",
            "\u001b[0;31mNameError\u001b[0m: name 'X_train' is not defined"
          ]
        }
      ]
    },
    {
      "cell_type": "code",
      "metadata": {
        "id": "zcQJK78qF0Rh",
        "colab_type": "code",
        "outputId": "accfbb03-4f6d-47ce-8b93-87a02a4e919b",
        "colab": {
          "base_uri": "https://localhost:8080/",
          "height": 163
        }
      },
      "source": [
        "generator"
      ],
      "execution_count": 0,
      "outputs": [
        {
          "output_type": "error",
          "ename": "NameError",
          "evalue": "ignored",
          "traceback": [
            "\u001b[0;31m---------------------------------------------------------------------------\u001b[0m",
            "\u001b[0;31mNameError\u001b[0m                                 Traceback (most recent call last)",
            "\u001b[0;32m<ipython-input-54-0e0ca2d76f81>\u001b[0m in \u001b[0;36m<module>\u001b[0;34m()\u001b[0m\n\u001b[0;32m----> 1\u001b[0;31m \u001b[0mgenerator\u001b[0m\u001b[0;34m\u001b[0m\u001b[0;34m\u001b[0m\u001b[0m\n\u001b[0m",
            "\u001b[0;31mNameError\u001b[0m: name 'generator' is not defined"
          ]
        }
      ]
    },
    {
      "cell_type": "markdown",
      "metadata": {
        "id": "mSguEPx-H_D6",
        "colab_type": "text"
      },
      "source": [
        "Postprocesado de datos de salida"
      ]
    },
    {
      "cell_type": "code",
      "metadata": {
        "id": "vAJvjjvNIHcO",
        "colab_type": "code",
        "colab": {}
      },
      "source": [
        "df = pd.read_csv('17_a.csv', header=None)"
      ],
      "execution_count": 0,
      "outputs": []
    },
    {
      "cell_type": "code",
      "metadata": {
        "id": "Wi41KRDuBZ1w",
        "colab_type": "code",
        "colab": {}
      },
      "source": [
        "df[0]=df[0].apply(lambda x: x.split(','))"
      ],
      "execution_count": 0,
      "outputs": []
    },
    {
      "cell_type": "code",
      "metadata": {
        "id": "eBQrkvsOBvey",
        "colab_type": "code",
        "outputId": "93a8850c-23bf-44bd-e23c-fa4c8cc4fa68",
        "colab": {
          "base_uri": "https://localhost:8080/",
          "height": 221
        }
      },
      "source": [
        "df[0]"
      ],
      "execution_count": 0,
      "outputs": [
        {
          "output_type": "execute_result",
          "data": {
            "text/plain": [
              "0       [13.3780471856351, 2.8377602455671, 1.48631674...\n",
              "1       [13.4278691159807, 2.84197631680024, 1.4863167...\n",
              "2       [13.477697602257, 2.8461141852625, 1.486316745...\n",
              "3       [13.5275327187439, 2.8501714213576, 1.48631674...\n",
              "4       [13.5773745379712, 2.85414546918325, 1.4863167...\n",
              "                              ...                        \n",
              "1014    [18.3546830379293, 1.41693950216082, 3.6487514...\n",
              "1015    [18.3878800275203, 1.37955020045437, 3.6487514...\n",
              "1016    [18.4207616530758, 1.34188325604917, 3.6487514...\n",
              "1017    [18.4533341781645, 1.30394869912087, 3.6487514...\n",
              "1018    [18.4856037816336, 1.26575612534079, 3.6487514...\n",
              "Name: 0, Length: 1019, dtype: object"
            ]
          },
          "metadata": {
            "tags": []
          },
          "execution_count": 44
        }
      ]
    }
  ]
}