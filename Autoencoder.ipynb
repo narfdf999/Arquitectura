{
  "nbformat": 4,
  "nbformat_minor": 0,
  "metadata": {
    "colab": {
      "name": "Autoencoder.ipynb",
      "provenance": [],
      "include_colab_link": true
    },
    "kernelspec": {
      "name": "python3",
      "display_name": "Python 3"
    }
  },
  "cells": [
    {
      "cell_type": "markdown",
      "metadata": {
        "id": "view-in-github",
        "colab_type": "text"
      },
      "source": [
        "<a href=\"https://colab.research.google.com/github/narfdf999/Arquitectura/blob/master/Autoencoder.ipynb\" target=\"_parent\"><img src=\"https://colab.research.google.com/assets/colab-badge.svg\" alt=\"Open In Colab\"/></a>"
      ]
    },
    {
      "cell_type": "code",
      "metadata": {
        "id": "6M_ZTNwIrLiD",
        "colab_type": "code",
        "colab": {}
      },
      "source": [
        "import numpy as np\n",
        "import matplotlib.pyplot as plt\n",
        "import os\n",
        "import glob\n",
        "import keras\n",
        "from keras.layers import Dense, Input, Conv2D, MaxPooling2D, Flatten, Conv2DTranspose, Reshape\n",
        "from keras.layers import Input, Dense, Conv2D, MaxPooling2D, UpSampling2D\n",
        "from keras.models import Model ,Sequential, load_model\n",
        "from keras.layers.advanced_activations import LeakyReLU\n",
        "from keras import backend as K\n",
        "from keras.optimizers import Adam\n",
        "\n"
      ],
      "execution_count": 0,
      "outputs": []
    },
    {
      "cell_type": "code",
      "metadata": {
        "id": "yAgDrB90Vw_n",
        "colab_type": "code",
        "colab": {
          "base_uri": "https://localhost:8080/",
          "height": 122
        },
        "outputId": "1ed73b06-95ac-4e3a-9573-428896f9bd49"
      },
      "source": [
        "from google.colab import drive\n",
        "drive.mount('/content/drive')"
      ],
      "execution_count": 1,
      "outputs": [
        {
          "output_type": "stream",
          "text": [
            "Go to this URL in a browser: https://accounts.google.com/o/oauth2/auth?client_id=947318989803-6bn6qk8qdgf4n4g3pfee6491hc0brc4i.apps.googleusercontent.com&redirect_uri=urn%3aietf%3awg%3aoauth%3a2.0%3aoob&response_type=code&scope=email%20https%3a%2f%2fwww.googleapis.com%2fauth%2fdocs.test%20https%3a%2f%2fwww.googleapis.com%2fauth%2fdrive%20https%3a%2f%2fwww.googleapis.com%2fauth%2fdrive.photos.readonly%20https%3a%2f%2fwww.googleapis.com%2fauth%2fpeopleapi.readonly\n",
            "\n",
            "Enter your authorization code:\n",
            "··········\n",
            "Mounted at /content/drive\n"
          ],
          "name": "stdout"
        }
      ]
    },
    {
      "cell_type": "code",
      "metadata": {
        "id": "gK9Cxgih7R_T",
        "colab_type": "code",
        "colab": {
          "base_uri": "https://localhost:8080/",
          "height": 1000
        },
        "outputId": "cd9df4c6-1b17-4079-bc90-dfe36e6c0418"
      },
      "source": [
        "#Load Dataset\n",
        "def load_data():\n",
        "  path = '/content/drive/My Drive/1260_mercator'\n",
        "  x_train = np.load('/content/drive/My Drive/1260_mercator/01a.npy')\n",
        "\n",
        "  for filename in glob.glob(os.path.join(path, '*.npy')):\n",
        "    if(filename != '/content/drive/My Drive/1260_mercator/01a.npy'):\n",
        "      print(filename)\n",
        "      aux=np.load(filename)\n",
        "      print(x_train.shape)\n",
        "      print(aux.shape)\n",
        "      x_train=np.concatenate((x_train,aux),axis = 0)  \n",
        "\n",
        "  return x_train\n",
        "\n",
        "x_train = load_data()\n",
        "print(x_train)"
      ],
      "execution_count": 19,
      "outputs": [
        {
          "output_type": "stream",
          "text": [
            "/content/drive/My Drive/1260_mercator/01b.npy\n",
            "(1343, 21, 60)\n",
            "(1051, 21, 60)\n",
            "/content/drive/My Drive/1260_mercator/02a.npy\n",
            "(2394, 21, 60)\n",
            "(328, 21, 60)\n",
            "/content/drive/My Drive/1260_mercator/02b.npy\n",
            "(2722, 21, 60)\n",
            "(670, 21, 60)\n",
            "/content/drive/My Drive/1260_mercator/03a.npy\n",
            "(3392, 21, 60)\n",
            "(5026, 21, 60)\n",
            "/content/drive/My Drive/1260_mercator/03b.npy\n",
            "(8418, 21, 60)\n",
            "(2591, 21, 60)\n",
            "/content/drive/My Drive/1260_mercator/03c.npy\n",
            "(11009, 21, 60)\n",
            "(1330, 21, 60)\n",
            "/content/drive/My Drive/1260_mercator/04a.npy\n",
            "(12339, 21, 60)\n",
            "(1148, 21, 60)\n",
            "/content/drive/My Drive/1260_mercator/04b.npy\n",
            "(13487, 21, 60)\n",
            "(1200, 21, 60)\n",
            "/content/drive/My Drive/1260_mercator/04c.npy\n",
            "(14687, 21, 60)\n",
            "(826, 21, 60)\n",
            "/content/drive/My Drive/1260_mercator/09.npy\n",
            "(15513, 21, 60)\n",
            "(3322, 21, 60)\n",
            "/content/drive/My Drive/1260_mercator/10.npy\n",
            "(18835, 21, 60)\n",
            "(3027, 21, 60)\n",
            "/content/drive/My Drive/1260_mercator/12.npy\n",
            "(21862, 21, 60)\n",
            "(1709, 21, 60)\n",
            "/content/drive/My Drive/1260_mercator/14.npy\n",
            "(23571, 21, 60)\n",
            "(4942, 21, 60)\n",
            "/content/drive/My Drive/1260_mercator/15.npy\n",
            "(28513, 21, 60)\n",
            "(2306, 21, 60)\n",
            "/content/drive/My Drive/1260_mercator/17_a.npy\n",
            "(30819, 21, 60)\n",
            "(1019, 21, 60)\n",
            "/content/drive/My Drive/1260_mercator/17_b.npy\n",
            "(31838, 21, 60)\n",
            "(1071, 21, 60)\n",
            "/content/drive/My Drive/1260_mercator/18.npy\n",
            "(32909, 21, 60)\n",
            "(1601, 21, 60)\n",
            "/content/drive/My Drive/1260_mercator/19a.npy\n",
            "(34510, 21, 60)\n",
            "(1948, 21, 60)\n",
            "/content/drive/My Drive/1260_mercator/19b.npy\n",
            "(36458, 21, 60)\n",
            "(1048, 21, 60)\n",
            "/content/drive/My Drive/1260_mercator/20a.npy\n",
            "(37506, 21, 60)\n",
            "(1523, 21, 60)\n",
            "/content/drive/My Drive/1260_mercator/20b.npy\n",
            "(39029, 21, 60)\n",
            "(853, 21, 60)\n",
            "/content/drive/My Drive/1260_mercator/21a.npy\n",
            "(39882, 21, 60)\n",
            "(1965, 21, 60)\n",
            "/content/drive/My Drive/1260_mercator/21b.npy\n",
            "(41847, 21, 60)\n",
            "(1268, 21, 60)\n",
            "/content/drive/My Drive/1260_mercator/22.npy\n",
            "(43115, 21, 60)\n",
            "(1978, 21, 60)\n",
            "/content/drive/My Drive/1260_mercator/23.npy\n",
            "(45093, 21, 60)\n",
            "(1453, 21, 60)\n",
            "/content/drive/My Drive/1260_mercator/24.npy\n",
            "(46546, 21, 60)\n",
            "(3996, 21, 60)\n",
            "/content/drive/My Drive/1260_mercator/25a.npy\n",
            "(50542, 21, 60)\n",
            "(3936, 21, 60)\n",
            "/content/drive/My Drive/1260_mercator/25b.npy\n",
            "(54478, 21, 60)\n",
            "(974, 21, 60)\n",
            "/content/drive/My Drive/1260_mercator/25c.npy\n",
            "(55452, 21, 60)\n",
            "(2009, 21, 60)\n",
            "[[[-0.90220972 -0.90566774 -0.90566774 ... -0.90566774 -0.90566774\n",
            "   -0.90566774]\n",
            "  [-0.90220972 -0.90220972 -0.90220972 ... -0.90220972 -0.90220972\n",
            "   -0.90220972]\n",
            "  [-0.89295218 -0.89295218 -0.89295218 ... -0.89295218 -0.89295218\n",
            "   -0.89295218]\n",
            "  ...\n",
            "  [ 1.          1.          1.         ...  1.          1.\n",
            "    1.        ]\n",
            "  [ 1.          1.          1.         ...  1.          1.\n",
            "    1.        ]\n",
            "  [ 1.          1.          1.         ...  1.          1.\n",
            "    1.        ]]\n",
            "\n",
            " [[-0.90220972 -0.90566774 -0.90566774 ... -0.90566774 -0.90566774\n",
            "   -0.90566774]\n",
            "  [-0.90220972 -0.90220972 -0.90220972 ... -0.90220972 -0.90220972\n",
            "   -0.90220972]\n",
            "  [-0.89295218 -0.89295218 -0.89295218 ... -0.89295218 -0.89295218\n",
            "   -0.89295218]\n",
            "  ...\n",
            "  [ 1.          1.          1.         ...  1.          1.\n",
            "    1.        ]\n",
            "  [ 1.          1.          1.         ...  1.          1.\n",
            "    1.        ]\n",
            "  [ 1.          1.          1.         ...  1.          1.\n",
            "    1.        ]]\n",
            "\n",
            " [[-0.90220972 -0.90566774 -0.90566774 ... -0.90566774 -0.90566774\n",
            "   -0.90566774]\n",
            "  [-0.90220972 -0.90220972 -0.90220972 ... -0.90220972 -0.90220972\n",
            "   -0.90220972]\n",
            "  [-0.89295218 -0.89295218 -0.89295218 ... -0.89295218 -0.89295218\n",
            "   -0.89295218]\n",
            "  ...\n",
            "  [ 1.          1.          1.         ...  1.          1.\n",
            "    1.        ]\n",
            "  [ 1.          1.          1.         ...  1.          1.\n",
            "    1.        ]\n",
            "  [ 1.          1.          1.         ...  1.          1.\n",
            "    1.        ]]\n",
            "\n",
            " ...\n",
            "\n",
            " [[-0.89960554 -0.90315564 -0.90315564 ... -0.90315564 -0.90315564\n",
            "   -0.90315564]\n",
            "  [-0.89960554 -0.89960554 -0.89960554 ... -0.89960554 -0.89960554\n",
            "   -0.89960554]\n",
            "  [-0.89010147 -0.89010147 -0.89010147 ... -0.89010147 -0.89010147\n",
            "   -0.89010147]\n",
            "  ...\n",
            "  [-0.96287398 -0.96287398 -0.96287398 ... -0.96287398 -0.96287398\n",
            "   -0.96287398]\n",
            "  [-0.96634657 -0.96634657 -0.96634657 ... -0.96634657 -0.96634657\n",
            "   -0.96634657]\n",
            "  [-0.96757487 -0.96757487 -0.96757487 ... -0.96757487 -0.96757487\n",
            "   -0.96757487]]\n",
            "\n",
            " [[-0.89960554 -0.90315564 -0.90315564 ... -0.90315564 -0.90315564\n",
            "   -0.90315564]\n",
            "  [-0.89960554 -0.89960554 -0.89960554 ... -0.89960554 -0.89960554\n",
            "   -0.89960554]\n",
            "  [-0.89010147 -0.89010147 -0.89010147 ... -0.89010147 -0.89010147\n",
            "   -0.89010147]\n",
            "  ...\n",
            "  [-0.96287398 -0.96287398 -0.96287398 ... -0.96287398 -0.96287398\n",
            "   -0.96287398]\n",
            "  [-0.96634657 -0.96634657 -0.96634657 ... -0.96634657 -0.96634657\n",
            "   -0.96634657]\n",
            "  [-0.96757487 -0.96757487 -0.96757487 ... -0.96757487 -0.96757487\n",
            "   -0.96757487]]\n",
            "\n",
            " [[-0.89960554 -0.90315564 -0.90315564 ... -0.90315564 -0.90315564\n",
            "   -0.90315564]\n",
            "  [-0.89960554 -0.89960554 -0.89960554 ... -0.89960554 -0.89960554\n",
            "   -0.89960554]\n",
            "  [-0.89010147 -0.89010147 -0.89010147 ... -0.89010147 -0.89010147\n",
            "   -0.89010147]\n",
            "  ...\n",
            "  [-0.96287398 -0.96287398 -0.96287398 ... -0.96287398 -0.96287398\n",
            "   -0.96287398]\n",
            "  [-0.96634657 -0.96634657 -0.96634657 ... -0.96634657 -0.96634657\n",
            "   -0.96634657]\n",
            "  [-0.96757487 -0.96757487 -0.96757487 ... -0.96757487 -0.96757487\n",
            "   -0.96757487]]]\n"
          ],
          "name": "stdout"
        }
      ]
    },
    {
      "cell_type": "code",
      "metadata": {
        "id": "sflG0STWcq6P",
        "colab_type": "code",
        "colab": {}
      },
      "source": [
        "np.save('/content/drive/My Drive/1260_mercator/mercator_total.npy',x_train)"
      ],
      "execution_count": 0,
      "outputs": []
    },
    {
      "cell_type": "code",
      "metadata": {
        "id": "jFVLioYX70Nb",
        "colab_type": "code",
        "colab": {
          "base_uri": "https://localhost:8080/",
          "height": 1000
        },
        "outputId": "bd26cdb2-d4e5-405f-ad90-4f3376a62bd2"
      },
      "source": [
        "#Add Noise to our MNNIST Dataset by sampling random values from Gaussian distribution by using np.random.normal() and adding it to our original images to change pixel values\n",
        "\n",
        "noise_factor = 0.5\n",
        "x_train_noisy = x_train + noise_factor * np.random.normal(loc=0.0, scale=1.0, size=x_train.shape)\n",
        "print(x_train_noisy)\n",
        "\n"
      ],
      "execution_count": 21,
      "outputs": [
        {
          "output_type": "stream",
          "text": [
            "[[[-1.06275942e+00 -3.15951529e-01 -4.41657452e-01 ... -1.60270959e-03\n",
            "   -1.24251739e+00 -3.33667097e-01]\n",
            "  [-7.32612118e-01 -5.06707648e-01 -1.22520025e+00 ... -1.44239202e-02\n",
            "   -8.43407220e-01 -1.40113398e+00]\n",
            "  [-6.22492139e-01 -3.29739773e-01 -1.84913079e+00 ... -8.07926924e-01\n",
            "   -1.65647618e+00 -3.26326119e-01]\n",
            "  ...\n",
            "  [ 5.18513281e-01  1.87080304e-01  4.93972266e-01 ...  5.85377201e-01\n",
            "    1.31765351e+00  1.00161279e+00]\n",
            "  [ 1.11441940e+00  1.04289672e+00  1.75142587e+00 ...  7.51896714e-01\n",
            "    1.47428320e+00  1.14842893e+00]\n",
            "  [ 7.40045827e-01  1.79567771e+00  5.16070446e-01 ...  7.96036468e-01\n",
            "    1.53292325e+00  8.27922246e-01]]\n",
            "\n",
            " [[-1.06847336e+00 -1.01327148e+00 -8.14788819e-01 ... -5.01709738e-01\n",
            "   -9.80994351e-01 -4.81501937e-01]\n",
            "  [-4.90931895e-01 -7.47658949e-01  2.76000995e-02 ... -1.09061846e+00\n",
            "   -7.70017282e-01 -6.78124578e-01]\n",
            "  [-3.43955072e-01  3.32348710e-04 -1.35272018e+00 ... -1.36140283e+00\n",
            "   -8.28724458e-01 -3.64040288e-01]\n",
            "  ...\n",
            "  [ 9.21640131e-01  1.08434405e+00  1.03825534e+00 ...  1.71899334e+00\n",
            "    5.16599509e-01  1.76389985e+00]\n",
            "  [ 1.66232123e+00  1.09071794e+00  1.52162317e+00 ...  1.21644324e+00\n",
            "    2.92625012e-01  1.13791536e+00]\n",
            "  [ 6.02836070e-01  4.95466019e-01  6.10192331e-01 ...  7.24194231e-01\n",
            "    9.43081396e-01  8.03204917e-01]]\n",
            "\n",
            " [[-6.89444139e-01 -6.57445376e-01 -5.74782420e-01 ... -1.42129432e+00\n",
            "   -8.12241984e-01 -1.23149204e+00]\n",
            "  [-1.84023265e+00  8.50903745e-02 -1.09274580e+00 ... -1.09999731e+00\n",
            "   -1.64876734e-01 -1.03183747e+00]\n",
            "  [-1.14154903e+00 -1.72186569e+00 -1.29103036e+00 ... -1.31719550e+00\n",
            "   -1.06917072e+00 -1.71153620e+00]\n",
            "  ...\n",
            "  [ 1.18925430e+00  9.54368927e-01  1.40263206e+00 ...  6.64955021e-01\n",
            "    1.84271149e+00  1.03679351e+00]\n",
            "  [ 4.63983241e-01  1.27843595e+00  5.60184778e-01 ...  1.30620381e+00\n",
            "    5.37633288e-01  8.72630387e-01]\n",
            "  [ 2.09109035e+00  1.07583540e+00  1.45267580e+00 ...  1.61625045e+00\n",
            "    8.37770071e-01  8.74649443e-01]]\n",
            "\n",
            " ...\n",
            "\n",
            " [[-1.36416504e+00 -1.15682939e+00 -8.91415764e-01 ... -1.23144491e+00\n",
            "   -1.52959149e+00 -4.50696970e-01]\n",
            "  [-1.10222031e-01 -1.78792616e+00 -8.97093963e-01 ...  1.85889895e-01\n",
            "   -6.97656973e-01 -2.84200445e-01]\n",
            "  [-1.19911723e+00 -1.28343823e+00 -1.00761075e+00 ... -9.23680139e-01\n",
            "   -1.76082187e-01 -1.42406428e+00]\n",
            "  ...\n",
            "  [-6.81557170e-01 -1.04669686e+00 -6.78087737e-01 ... -1.68913834e-01\n",
            "   -1.40709641e+00 -9.66368430e-01]\n",
            "  [-1.14500128e+00 -9.56753238e-01 -4.93194115e-01 ... -7.78358673e-01\n",
            "   -7.47085886e-01 -7.79585111e-01]\n",
            "  [-1.05070884e+00 -1.03441141e+00 -1.23801468e-01 ... -1.12559080e-01\n",
            "   -1.44238623e+00 -8.68657372e-01]]\n",
            "\n",
            " [[-7.92818070e-01 -1.39591221e+00 -4.70533557e-01 ... -7.17038642e-01\n",
            "   -2.84292272e-01 -1.26547480e-01]\n",
            "  [-5.67676491e-01  1.15467885e-01 -1.95751336e+00 ... -1.76068013e+00\n",
            "   -1.17884876e+00 -6.40887118e-01]\n",
            "  [-8.24801718e-01 -4.93811697e-01 -7.59922947e-01 ... -5.78624122e-01\n",
            "   -1.16546323e+00 -6.07251530e-01]\n",
            "  ...\n",
            "  [-1.17426534e+00 -1.27589903e+00 -9.03463892e-01 ... -6.35341815e-01\n",
            "   -6.24559706e-01 -1.05402559e+00]\n",
            "  [-1.28379657e+00 -4.50936692e-01 -5.76383794e-01 ... -9.68695103e-01\n",
            "   -1.47470979e+00 -8.52532678e-01]\n",
            "  [-6.76612362e-01 -2.46061469e-01 -1.25393079e+00 ...  5.22079152e-01\n",
            "   -1.20958124e+00 -1.79142808e+00]]\n",
            "\n",
            " [[-6.11494610e-01 -6.04587081e-01 -1.56036172e+00 ... -9.65207677e-01\n",
            "   -8.02598814e-01 -4.97867971e-01]\n",
            "  [-2.97154561e-01 -1.18461487e+00 -5.50746403e-01 ... -1.50849903e-02\n",
            "   -9.06013696e-01 -6.04220837e-01]\n",
            "  [-1.09867842e+00 -1.41573376e+00 -3.88453282e-01 ... -4.30417911e-01\n",
            "   -6.96631363e-01 -9.69999508e-01]\n",
            "  ...\n",
            "  [-9.32697188e-01 -1.16698299e+00 -1.04459523e+00 ... -1.67913899e+00\n",
            "   -1.23873173e+00 -1.03778894e+00]\n",
            "  [-1.44286961e+00 -1.52586110e+00 -9.09775206e-01 ... -1.40896059e+00\n",
            "   -8.41910058e-01 -1.51451385e+00]\n",
            "  [-8.16318870e-01 -2.38741601e-01 -4.18863570e-01 ... -1.08028606e+00\n",
            "   -1.05357594e+00 -1.07561888e+00]]]\n"
          ],
          "name": "stdout"
        }
      ]
    },
    {
      "cell_type": "code",
      "metadata": {
        "id": "eVVD9lNUebln",
        "colab_type": "code",
        "colab": {}
      },
      "source": [
        "np.save('/content/drive/My Drive/1260_mercator/mercator_total_noisy1.npy',x_train_noisy)"
      ],
      "execution_count": 0,
      "outputs": []
    },
    {
      "cell_type": "code",
      "metadata": {
        "id": "X6iGztIrdr9S",
        "colab_type": "code",
        "colab": {
          "base_uri": "https://localhost:8080/",
          "height": 183
        },
        "outputId": "19da0dd5-0444-4a06-84d7-7105026e8001"
      },
      "source": [
        "plt.imshow(x_train[100],vmin=-1,vmax=1)"
      ],
      "execution_count": 59,
      "outputs": [
        {
          "output_type": "execute_result",
          "data": {
            "text/plain": [
              "<matplotlib.image.AxesImage at 0x7faa5cd86ef0>"
            ]
          },
          "metadata": {
            "tags": []
          },
          "execution_count": 59
        },
        {
          "output_type": "display_data",
          "data": {
            "image/png": "[encoded data removed]",
            "text/plain": [
              "<Figure size 432x288 with 1 Axes>"
            ]
          },
          "metadata": {
            "tags": []
          }
        }
      ]
    },
    {
      "cell_type": "code",
      "metadata": {
        "id": "Rl-uCf6xf1Pl",
        "colab_type": "code",
        "colab": {}
      },
      "source": [
        "def adam_optimizer():\n",
        "    return Adam(lr=0.0002, beta_1=0.5)"
      ],
      "execution_count": 0,
      "outputs": []
    },
    {
      "cell_type": "code",
      "metadata": {
        "id": "8TKrvOwUe9Wz",
        "colab_type": "code",
        "colab": {
          "base_uri": "https://localhost:8080/",
          "height": 425
        },
        "outputId": "9c985e54-28c5-47ea-fc23-3315ed3fae26"
      },
      "source": [
        "# input matriz (21,60)\n",
        "# output array 125\n",
        "def create_encoder():\n",
        "  \n",
        "    encoder=Sequential()\n",
        "\n",
        "    encoder.add(Conv2D(32, kernel_size=(5, 5), strides=(1, 1),input_shape=(21,60,1),name='e_conv2d_1'))\n",
        "    encoder.add(LeakyReLU(alpha=0.2))\n",
        "    encoder.add(MaxPooling2D(pool_size=(2, 2), strides=(1, 1),name='e_maxpool_1'))\n",
        "    \n",
        "    encoder.add(Conv2D(32, kernel_size=(5, 5), strides=(1, 1),name='e_conv2d_2'))\n",
        "    encoder.add(LeakyReLU(alpha=0.2))\n",
        "    encoder.add(MaxPooling2D(pool_size=(2, 2), strides=(1, 1),name='e_maxpool_2'))\n",
        "    \n",
        "    encoder.add(Flatten())\n",
        "    encoder.add(Dense(units=128, activation='relu'))\n",
        "    \n",
        "    encoder.compile(loss='mse', optimizer=adam_optimizer())\n",
        "    encoder.name='encoder'\n",
        "    return encoder\n",
        "e = create_encoder()\n",
        "e.summary()"
      ],
      "execution_count": 53,
      "outputs": [
        {
          "output_type": "stream",
          "text": [
            "Model: \"encoder\"\n",
            "_________________________________________________________________\n",
            "Layer (type)                 Output Shape              Param #   \n",
            "=================================================================\n",
            "e_conv2d_1 (Conv2D)          (None, 17, 56, 32)        832       \n",
            "_________________________________________________________________\n",
            "leaky_re_lu_13 (LeakyReLU)   (None, 17, 56, 32)        0         \n",
            "_________________________________________________________________\n",
            "e_maxpool_1 (MaxPooling2D)   (None, 16, 55, 32)        0         \n",
            "_________________________________________________________________\n",
            "e_conv2d_2 (Conv2D)          (None, 12, 51, 32)        25632     \n",
            "_________________________________________________________________\n",
            "leaky_re_lu_14 (LeakyReLU)   (None, 12, 51, 32)        0         \n",
            "_________________________________________________________________\n",
            "e_maxpool_2 (MaxPooling2D)   (None, 11, 50, 32)        0         \n",
            "_________________________________________________________________\n",
            "flatten_6 (Flatten)          (None, 17600)             0         \n",
            "_________________________________________________________________\n",
            "dense_6 (Dense)              (None, 128)               2252928   \n",
            "=================================================================\n",
            "Total params: 2,279,392\n",
            "Trainable params: 2,279,392\n",
            "Non-trainable params: 0\n",
            "_________________________________________________________________\n"
          ],
          "name": "stdout"
        }
      ]
    },
    {
      "cell_type": "code",
      "metadata": {
        "id": "wzV_iy3KgTb6",
        "colab_type": "code",
        "colab": {
          "base_uri": "https://localhost:8080/",
          "height": 289
        },
        "outputId": "8bb8098d-3f80-413e-c2b8-3feee66b112e"
      },
      "source": [
        "# input array 128\n",
        "# output matriz (21,60)\n",
        "\n",
        "def create_decoder():\n",
        "\n",
        "  generator=Sequential()\n",
        "\n",
        "  generator.add(Dense(128 * 7 * 3, input_dim=128, name='dense'))\n",
        "  generator.add(Reshape((7, 3, 128), name='reshape'))\n",
        "\n",
        "  generator.add(Conv2DTranspose(64, (5,5), strides=(3,5), padding='same', name='conv2dt_1'))\n",
        "  generator.add(Conv2DTranspose(1, (5,5), strides=(1,4), padding='same', name='conv2dt_2'))\n",
        "\n",
        "  generator.compile(loss='binary_crossentropy', optimizer=adam_optimizer())\n",
        "  generator.name='decoder'\n",
        "  return generator\n",
        "g = create_decoder()\n",
        "g.summary()"
      ],
      "execution_count": 45,
      "outputs": [
        {
          "output_type": "stream",
          "text": [
            "Model: \"decoder\"\n",
            "_________________________________________________________________\n",
            "Layer (type)                 Output Shape              Param #   \n",
            "=================================================================\n",
            "dense (Dense)                (None, 2688)              346752    \n",
            "_________________________________________________________________\n",
            "reshape (Reshape)            (None, 7, 3, 128)         0         \n",
            "_________________________________________________________________\n",
            "conv2dt_1 (Conv2DTranspose)  (None, 21, 15, 64)        204864    \n",
            "_________________________________________________________________\n",
            "conv2dt_2 (Conv2DTranspose)  (None, 21, 60, 1)         1601      \n",
            "=================================================================\n",
            "Total params: 553,217\n",
            "Trainable params: 553,217\n",
            "Non-trainable params: 0\n",
            "_________________________________________________________________\n"
          ],
          "name": "stdout"
        }
      ]
    },
    {
      "cell_type": "code",
      "metadata": {
        "id": "57bLY-99hWYg",
        "colab_type": "code",
        "colab": {
          "base_uri": "https://localhost:8080/",
          "height": 255
        },
        "outputId": "6dca29fa-cb34-44b4-d301-2c0cd5e0cb76"
      },
      "source": [
        "def c_autoencoder(encoder, decoder):\n",
        "\n",
        "  c_autoencoder_input = Input(shape=(21,60,1))\n",
        "  x = encoder(c_autoencoder_input)\n",
        "  p = Input(shape=(3,))\n",
        "  c_autoencoder_output=decoder(x)\n",
        "  autoencoder = Model(inputs=[c_autoencoder_input], outputs=c_autoencoder_output)\n",
        "  autoencoder.compile(loss='binary_crossentropy', optimizer='adam')\n",
        "  autoencoder.name='cuasi autoencoder'\n",
        "  return autoencoder\n",
        "\n",
        "autoencoder=c_autoencoder(e,g)\n",
        "autoencoder.summary()"
      ],
      "execution_count": 63,
      "outputs": [
        {
          "output_type": "stream",
          "text": [
            "Model: \"cuasi autoencoder\"\n",
            "_________________________________________________________________\n",
            "Layer (type)                 Output Shape              Param #   \n",
            "=================================================================\n",
            "input_13 (InputLayer)        (None, 21, 60, 1)         0         \n",
            "_________________________________________________________________\n",
            "encoder (Sequential)         (None, 128)               2279392   \n",
            "_________________________________________________________________\n",
            "decoder (Sequential)         (None, 21, 60, 1)         553217    \n",
            "=================================================================\n",
            "Total params: 2,832,609\n",
            "Trainable params: 2,832,609\n",
            "Non-trainable params: 0\n",
            "_________________________________________________________________\n"
          ],
          "name": "stdout"
        }
      ]
    },
    {
      "cell_type": "code",
      "metadata": {
        "id": "wexgqgeTljCh",
        "colab_type": "code",
        "colab": {}
      },
      "source": [
        "x_train=np.expand_dims(x_train,axis=-1)\n",
        "x_train_noisy=np.expand_dims(x_train_noisy,axis=-1)"
      ],
      "execution_count": 0,
      "outputs": []
    },
    {
      "cell_type": "code",
      "metadata": {
        "id": "yotdxAh78EKJ",
        "colab_type": "code",
        "colab": {}
      },
      "source": [
        "autoencoder.fit(x_train_noisy, x_train,epochs=100,batch_size=128,shuffle=True,validation_data=(x_train_noisy, x_train),)"
      ],
      "execution_count": 0,
      "outputs": []
    },
    {
      "cell_type": "code",
      "metadata": {
        "id": "-g3LmfFpl-8v",
        "colab_type": "code",
        "colab": {}
      },
      "source": [
        ""
      ],
      "execution_count": 0,
      "outputs": []
    }
  ]
}