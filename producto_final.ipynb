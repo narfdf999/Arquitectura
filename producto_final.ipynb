{
  "nbformat": 4,
  "nbformat_minor": 0,
  "metadata": {
    "colab": {
      "name": "producto final.ipynb",
      "provenance": [],
      "collapsed_sections": [],
      "include_colab_link": true
    },
    "kernelspec": {
      "name": "python3",
      "display_name": "Python 3"
    }
  },
  "cells": [
    {
      "cell_type": "markdown",
      "metadata": {
        "id": "view-in-github",
        "colab_type": "text"
      },
      "source": [
        "<a href=\"https://colab.research.google.com/github/narfdf999/Arquitectura/blob/master/producto_final.ipynb\" target=\"_parent\"><img src=\"https://colab.research.google.com/assets/colab-badge.svg\" alt=\"Open In Colab\"/></a>"
      ]
    },
    {
      "cell_type": "markdown",
      "metadata": {
        "id": "Fn6UNwsaihrk",
        "colab_type": "text"
      },
      "source": [
        "# ***Solución final al problema de generar edificio a lo largo de un camino***\n",
        "\n",
        "\n"
      ]
    },
    {
      "cell_type": "markdown",
      "metadata": {
        "id": "bwn5-EUnmWXh",
        "colab_type": "text"
      },
      "source": [
        "# Introducción\n",
        "\n",
        "###\"*Caminante, no hay camino. Se hace camino al andar*\"\n",
        "Antonio Machado *1912*\n",
        "\n",
        "\n",
        "---\n",
        "\n",
        "En los últimos meses se ha avanzado mucho en lo correspondiente a generación de plantas de edificios y su distribución. El enfoque el éste trabajo es radicalmente distinto. Nosotros pretendemos ponernos en la piel del transeunte y vivir la experiencia de recorrer los edificios y las sensaciones que te generan. Para ello se toma como input una curva paramétrica de 3 dimensiones que representa el camino, la dividimos en trozos muy pequeños y realizamos las visuales con forma de nube de puntos en cada una y que de una intuición al arquitecto de por donde seguir en su diseño. Una visual en arquitectura como su propio nombre indica es la percepción en 360º desde una posición determinada de un edificio. La forma más eficiente es, usando un sistema de coordenadas esféricas tomar ángulos fijos y calcular la tercera coordenada, que es el radio. De esta forma obtenemos una esfera de distancias que puede ser simplificada en una matriz de distancas usando una proyección de Mercator. Dichas matrices son lo que el modelo genera. Después de obtener todas las visuales correspondientes se calcula la transformación inversa a la proyección de Mercator y se transporta cada una al punto indicado en la curva. Así se genera la nube de puntos de todo el camino através del edificio como si de un hormiguero se tratara.\n"
      ]
    },
    {
      "cell_type": "markdown",
      "metadata": {
        "id": "ofQ7UEagjJNa",
        "colab_type": "text"
      },
      "source": [
        "#Librerías\n",
        "\n",
        "---\n",
        "\n"
      ]
    },
    {
      "cell_type": "code",
      "metadata": {
        "id": "58mhsER7iORs",
        "colab_type": "code",
        "colab": {}
      },
      "source": [
        "import numpy as np\n",
        "import pandas as pd\n",
        "import csv\n",
        "import matplotlib.pyplot as plt\n",
        "import keras\n",
        "from keras.layers import Dense, Input, Conv2D, MaxPooling2D, Flatten, Conv2DTranspose, Reshape\n",
        "from keras.models import Model ,Sequential, load_model\n",
        "from tqdm import tqdm\n",
        "from keras.layers.advanced_activations import LeakyReLU\n",
        "from keras.optimizers import Adam"
      ],
      "execution_count": 0,
      "outputs": []
    },
    {
      "cell_type": "markdown",
      "metadata": {
        "id": "3iK555L1jQs7",
        "colab_type": "text"
      },
      "source": [
        "# Visualización y preprocesamiento de datos\n",
        "\n",
        "---\n",
        "\n"
      ]
    },
    {
      "cell_type": "code",
      "metadata": {
        "id": "4yFfQJoxjcJT",
        "colab_type": "code",
        "colab": {
          "base_uri": "https://localhost:8080/",
          "height": 136
        },
        "outputId": "f59d6599-cdef-4502-b8a6-01825ece60d3"
      },
      "source": [
        "input=np.random.random_sample((128,128))\n",
        "print(input)"
      ],
      "execution_count": 42,
      "outputs": [
        {
          "output_type": "stream",
          "text": [
            "[[0.66872527 0.50201433 0.2610333  ... 0.71180088 0.48648238 0.3424924 ]\n",
            " [0.45952864 0.93984101 0.13826931 ... 0.98918115 0.1139043  0.39400716]\n",
            " [0.12761532 0.45475703 0.51444306 ... 0.49979997 0.56977931 0.12704229]\n",
            " ...\n",
            " [0.94348285 0.34247194 0.60873262 ... 0.76758931 0.69043367 0.82606595]\n",
            " [0.22651634 0.2118114  0.30115265 ... 0.13069027 0.67215384 0.02267914]\n",
            " [0.9158766  0.17884721 0.19119157 ... 0.54120307 0.64210222 0.25187294]]\n"
          ],
          "name": "stdout"
        }
      ]
    },
    {
      "cell_type": "markdown",
      "metadata": {
        "id": "BSKb7ALbjczx",
        "colab_type": "text"
      },
      "source": [
        "# Implementación del sistema\n",
        "\n",
        "---\n",
        "\n"
      ]
    },
    {
      "cell_type": "markdown",
      "metadata": {
        "id": "V8sHUOdOlKhq",
        "colab_type": "text"
      },
      "source": [
        "### Optimizador ADAM"
      ]
    },
    {
      "cell_type": "code",
      "metadata": {
        "id": "wwJhRR0QjzUB",
        "colab_type": "code",
        "colab": {}
      },
      "source": [
        "def adam_optimizer():\n",
        "    return Adam(lr=0.0002, beta_1=0.5)"
      ],
      "execution_count": 0,
      "outputs": []
    },
    {
      "cell_type": "markdown",
      "metadata": {
        "id": "bMFnwIwAjvgq",
        "colab_type": "text"
      },
      "source": [
        "## DCGAN generadora de la primera visual\n",
        "\n",
        "---\n",
        "\n",
        "Para obtener una visual nueva por donde empezar y totalmente independiente de cualquier edificio se usa una GAN (Generative Adversarial Network) que será entrenada con miles de visuales de edificios de arquitectos famosos como Le Corbusier. Una GAN consta de dos redes, el generador y el discriminador. La primera se encarga de generar visuales a partir de un vector de ruido aleatorio. La segunda calcula si la visual ha sido generada mediante el generador o es una visual de un edificio real. Las dos redes van mejorando simultaneamente en sus tareas hasta que el generador es capaz de crear visuales que parecen reales. En ese momento se desecha el discriminador y se usa solo el generador para crear la primera pieza de dominó que servirá para ir creando el resto según se avance por el camino.\n",
        "\n"
      ]
    },
    {
      "cell_type": "markdown",
      "metadata": {
        "id": "Qyj7i39AlAEl",
        "colab_type": "text"
      },
      "source": [
        "### Generador\n",
        "\n",
        "El generador toma como input un vector de 128 posiciones de ruido aleatorio y lo transforma en un output con forma de matriz ( , ). Para ello se construye en base a una red deconvolucional. La matriz de salida representa una proyección de Mercator de la visual en 3d. \n",
        "\n",
        "\n"
      ]
    },
    {
      "cell_type": "code",
      "metadata": {
        "id": "NP1grr2nkE39",
        "colab_type": "code",
        "colab": {
          "base_uri": "https://localhost:8080/",
          "height": 289
        },
        "outputId": "c0280806-4da9-4b89-8d3e-f9d8ea5833d4"
      },
      "source": [
        "# input array 128\n",
        "# output matriz (20,60)\n",
        "\n",
        "def create_generator():\n",
        "\n",
        "  generator=Sequential()\n",
        "\n",
        "  generator.add(Dense(128 * 5 * 5, input_dim=128, name='dense'))\n",
        "  generator.add(Reshape((5, 5, 128), name='reshape'))\n",
        "\n",
        "  generator.add(Conv2DTranspose(64, (5,5), strides=(2,3), padding='same', name='conv2dt_1'))\n",
        "  generator.add(Conv2DTranspose(1, (5,5), strides=(2,4), padding='same', name='conv2dt_2'))\n",
        "\n",
        "  generator.compile(loss='binary_crossentropy', optimizer=adam_optimizer())\n",
        "  generator.name='generador'\n",
        "  return generator\n",
        "g = create_generator()\n",
        "g.summary()"
      ],
      "execution_count": 44,
      "outputs": [
        {
          "output_type": "stream",
          "text": [
            "Model: \"generador\"\n",
            "_________________________________________________________________\n",
            "Layer (type)                 Output Shape              Param #   \n",
            "=================================================================\n",
            "dense (Dense)                (None, 3200)              412800    \n",
            "_________________________________________________________________\n",
            "reshape (Reshape)            (None, 5, 5, 128)         0         \n",
            "_________________________________________________________________\n",
            "conv2dt_1 (Conv2DTranspose)  (None, 10, 15, 64)        204864    \n",
            "_________________________________________________________________\n",
            "conv2dt_2 (Conv2DTranspose)  (None, 20, 60, 1)         1601      \n",
            "=================================================================\n",
            "Total params: 619,265\n",
            "Trainable params: 619,265\n",
            "Non-trainable params: 0\n",
            "_________________________________________________________________\n"
          ],
          "name": "stdout"
        }
      ]
    },
    {
      "cell_type": "markdown",
      "metadata": {
        "id": "QdQJYxM-lSyM",
        "colab_type": "text"
      },
      "source": [
        "### Discriminador\n",
        "\n",
        "El discriminador toma o una visual real o una creada por el generador y calcula si es real o generada. "
      ]
    },
    {
      "cell_type": "code",
      "metadata": {
        "id": "zVaqSxrElVmC",
        "colab_type": "code",
        "colab": {
          "base_uri": "https://localhost:8080/",
          "height": 425
        },
        "outputId": "94451daf-e983-4c2f-9cdf-2b565e1a498f"
      },
      "source": [
        "# input matriz (20,60)\n",
        "# output valor entre 0 y 1\n",
        "def create_discriminator():\n",
        "  \n",
        "    discriminator=Sequential()\n",
        "\n",
        "    discriminator.add(Conv2D(32, kernel_size=(5, 5), strides=(1, 1),input_shape=(20,60,1),name='conv2d_1'))\n",
        "    discriminator.add(LeakyReLU(alpha=0.2))\n",
        "    discriminator.add(MaxPooling2D(pool_size=(2, 2), strides=(1, 1),name='maxpool_1'))\n",
        "    \n",
        "    discriminator.add(Conv2D(32, kernel_size=(5, 5), strides=(1, 1),name='conv2d_2'))\n",
        "    discriminator.add(LeakyReLU(alpha=0.2))\n",
        "    discriminator.add(MaxPooling2D(pool_size=(2, 2), strides=(1, 1),name='maxpool_2'))\n",
        "    \n",
        "    discriminator.add(Flatten())\n",
        "    discriminator.add(Dense(units=1, activation='softmax'))\n",
        "    \n",
        "    discriminator.compile(loss='binary_crossentropy', optimizer=adam_optimizer())\n",
        "    discriminator.name='discriminador'\n",
        "    return discriminator\n",
        "d = create_discriminator()\n",
        "d.summary()"
      ],
      "execution_count": 45,
      "outputs": [
        {
          "output_type": "stream",
          "text": [
            "Model: \"discriminador\"\n",
            "_________________________________________________________________\n",
            "Layer (type)                 Output Shape              Param #   \n",
            "=================================================================\n",
            "conv2d_1 (Conv2D)            (None, 16, 56, 32)        832       \n",
            "_________________________________________________________________\n",
            "leaky_re_lu_7 (LeakyReLU)    (None, 16, 56, 32)        0         \n",
            "_________________________________________________________________\n",
            "maxpool_1 (MaxPooling2D)     (None, 15, 55, 32)        0         \n",
            "_________________________________________________________________\n",
            "conv2d_2 (Conv2D)            (None, 11, 51, 32)        25632     \n",
            "_________________________________________________________________\n",
            "leaky_re_lu_8 (LeakyReLU)    (None, 11, 51, 32)        0         \n",
            "_________________________________________________________________\n",
            "maxpool_2 (MaxPooling2D)     (None, 10, 50, 32)        0         \n",
            "_________________________________________________________________\n",
            "flatten_4 (Flatten)          (None, 16000)             0         \n",
            "_________________________________________________________________\n",
            "dense_29 (Dense)             (None, 1)                 16001     \n",
            "=================================================================\n",
            "Total params: 42,465\n",
            "Trainable params: 42,465\n",
            "Non-trainable params: 0\n",
            "_________________________________________________________________\n"
          ],
          "name": "stdout"
        }
      ]
    },
    {
      "cell_type": "markdown",
      "metadata": {
        "id": "tKZ27A8wlWUO",
        "colab_type": "text"
      },
      "source": [
        "### DCGAN\n",
        "\n",
        "Se pone en común el trabajo del generador y del discriminador para que mejoren de forma conjunta."
      ]
    },
    {
      "cell_type": "code",
      "metadata": {
        "id": "O8ukCkAAlZ_-",
        "colab_type": "code",
        "colab": {
          "base_uri": "https://localhost:8080/",
          "height": 255
        },
        "outputId": "bfe4eb96-0055-4950-be39-536a8a479469"
      },
      "source": [
        "def create_dcgan(discriminator, generator):\n",
        "\n",
        "  discriminator.trainable=False\n",
        "  gan_input = Input(shape=(128,))\n",
        "  x = generator(gan_input)\n",
        "  gan_output=discriminator(x)\n",
        "  dcgan = Model(inputs=[gan_input], outputs=[gan_output])\n",
        "  dcgan.compile(loss='binary_crossentropy', optimizer='adam')\n",
        "  dcgan.name='dcgan'\n",
        "  return dcgan\n",
        "\n",
        "gan=create_dcgan(d,g)\n",
        "gan.summary()"
      ],
      "execution_count": 46,
      "outputs": [
        {
          "output_type": "stream",
          "text": [
            "Model: \"dcgan\"\n",
            "_________________________________________________________________\n",
            "Layer (type)                 Output Shape              Param #   \n",
            "=================================================================\n",
            "input_3 (InputLayer)         (None, 128)               0         \n",
            "_________________________________________________________________\n",
            "generador (Sequential)       (None, 20, 60, 1)         619265    \n",
            "_________________________________________________________________\n",
            "discriminador (Sequential)   (None, 1)                 42465     \n",
            "=================================================================\n",
            "Total params: 661,730\n",
            "Trainable params: 619,265\n",
            "Non-trainable params: 42,465\n",
            "_________________________________________________________________\n"
          ],
          "name": "stdout"
        }
      ]
    },
    {
      "cell_type": "markdown",
      "metadata": {
        "id": "JS0RCdspkFsH",
        "colab_type": "text"
      },
      "source": [
        "## Cuasi Autoencoder que avanza paso a paso por el camino y genera las visuales según avanza\n",
        "\n",
        "---\n",
        "\n",
        "Esta red está compuesta de 2 subredes. La primera es una convolucional que permite comprimir todas las features en un array para concatenarlo con el array de dirección. La segunda es una red deconvolucional que a partir del vector comprimido concaatenado con las direcciones genera una nueva visual. El funcionamiento es muy similar a un autoencoder con el matiz de concatenar con las direcciones. Para aprovechar el aprendizaje adquirido en la GAN anterior se puede hacer transfer learning copiando muchas de sus capas.\n",
        "\n"
      ]
    },
    {
      "cell_type": "markdown",
      "metadata": {
        "id": "KmWKP5aTUPzJ",
        "colab_type": "text"
      },
      "source": [
        "### Encoder"
      ]
    },
    {
      "cell_type": "code",
      "metadata": {
        "id": "qTc4oNslkZqN",
        "colab_type": "code",
        "colab": {
          "base_uri": "https://localhost:8080/",
          "height": 425
        },
        "outputId": "b0232e04-6c97-494f-81d3-e649b12506e0"
      },
      "source": [
        "# input matriz (20,60)\n",
        "# output array 125\n",
        "def create_encoder():\n",
        "  \n",
        "    encoder=Sequential()\n",
        "\n",
        "    encoder.add(Conv2D(32, kernel_size=(5, 5), strides=(1, 1),input_shape=(20,60,1),name='e_conv2d_1'))\n",
        "    encoder.add(LeakyReLU(alpha=0.2))\n",
        "    encoder.add(MaxPooling2D(pool_size=(2, 2), strides=(1, 1),name='e_maxpool_1'))\n",
        "    \n",
        "    encoder.add(Conv2D(32, kernel_size=(5, 5), strides=(1, 1),name='e_conv2d_2'))\n",
        "    encoder.add(LeakyReLU(alpha=0.2))\n",
        "    encoder.add(MaxPooling2D(pool_size=(2, 2), strides=(1, 1),name='e_maxpool_2'))\n",
        "    \n",
        "    encoder.add(Flatten())\n",
        "    encoder.add(Dense(units=125, activation='relu'))\n",
        "    \n",
        "    encoder.compile(loss='binary_crossentropy', optimizer=adam_optimizer())\n",
        "    encoder.name='encoder'\n",
        "    return encoder\n",
        "e = create_encoder()\n",
        "e.summary()"
      ],
      "execution_count": 56,
      "outputs": [
        {
          "output_type": "stream",
          "text": [
            "Model: \"encoder\"\n",
            "_________________________________________________________________\n",
            "Layer (type)                 Output Shape              Param #   \n",
            "=================================================================\n",
            "e_conv2d_1 (Conv2D)          (None, 16, 56, 32)        832       \n",
            "_________________________________________________________________\n",
            "leaky_re_lu_11 (LeakyReLU)   (None, 16, 56, 32)        0         \n",
            "_________________________________________________________________\n",
            "e_maxpool_1 (MaxPooling2D)   (None, 15, 55, 32)        0         \n",
            "_________________________________________________________________\n",
            "e_conv2d_2 (Conv2D)          (None, 11, 51, 32)        25632     \n",
            "_________________________________________________________________\n",
            "leaky_re_lu_12 (LeakyReLU)   (None, 11, 51, 32)        0         \n",
            "_________________________________________________________________\n",
            "e_maxpool_2 (MaxPooling2D)   (None, 10, 50, 32)        0         \n",
            "_________________________________________________________________\n",
            "flatten_6 (Flatten)          (None, 16000)             0         \n",
            "_________________________________________________________________\n",
            "dense_31 (Dense)             (None, 125)               2000125   \n",
            "=================================================================\n",
            "Total params: 2,026,589\n",
            "Trainable params: 2,026,589\n",
            "Non-trainable params: 0\n",
            "_________________________________________________________________\n"
          ],
          "name": "stdout"
        }
      ]
    },
    {
      "cell_type": "markdown",
      "metadata": {
        "id": "PoLrMLO5UfJZ",
        "colab_type": "text"
      },
      "source": [
        "### Decoder"
      ]
    },
    {
      "cell_type": "code",
      "metadata": {
        "id": "opSWxLPRUfZc",
        "colab_type": "code",
        "colab": {
          "base_uri": "https://localhost:8080/",
          "height": 289
        },
        "outputId": "18563e3f-0105-4f55-e480-f3b6d96be519"
      },
      "source": [
        "# input array 128\n",
        "# output matriz (20,60)\n",
        "\n",
        "f = create_generator()\n",
        "f.summary()"
      ],
      "execution_count": 48,
      "outputs": [
        {
          "output_type": "stream",
          "text": [
            "Model: \"generador\"\n",
            "_________________________________________________________________\n",
            "Layer (type)                 Output Shape              Param #   \n",
            "=================================================================\n",
            "dense (Dense)                (None, 3200)              412800    \n",
            "_________________________________________________________________\n",
            "reshape (Reshape)            (None, 5, 5, 128)         0         \n",
            "_________________________________________________________________\n",
            "conv2dt_1 (Conv2DTranspose)  (None, 10, 15, 64)        204864    \n",
            "_________________________________________________________________\n",
            "conv2dt_2 (Conv2DTranspose)  (None, 20, 60, 1)         1601      \n",
            "=================================================================\n",
            "Total params: 619,265\n",
            "Trainable params: 619,265\n",
            "Non-trainable params: 0\n",
            "_________________________________________________________________\n"
          ],
          "name": "stdout"
        }
      ]
    },
    {
      "cell_type": "markdown",
      "metadata": {
        "id": "XsAU3NdGU3CV",
        "colab_type": "text"
      },
      "source": [
        "### Cuasi Autoencoder"
      ]
    },
    {
      "cell_type": "code",
      "metadata": {
        "id": "7U7Yf2iKU3R2",
        "colab_type": "code",
        "colab": {
          "base_uri": "https://localhost:8080/",
          "height": 340
        },
        "outputId": "9ed5464d-1a29-4839-ea68-9004fb26672e"
      },
      "source": [
        "def c_autoencoder(encoder, decoder):\n",
        "\n",
        "  c_autoencoder_input = Input(shape=(20,60,1))\n",
        "  x = encoder(c_autoencoder_input)\n",
        "  p = Input(shape=(3,))\n",
        "  x = keras.layers.Concatenate()([x,p])\n",
        "  c_autoencoder_output=decoder(x)\n",
        "  autoencoder = Model(inputs=[c_autoencoder_input, p], outputs=c_autoencoder_output)\n",
        "  autoencoder.compile(loss='binary_crossentropy', optimizer='adam')\n",
        "  autoencoder.name='cuasi autoencoder'\n",
        "  return autoencoder\n",
        "\n",
        "autoencoder=c_autoencoder(e,f)\n",
        "autoencoder.summary()"
      ],
      "execution_count": 61,
      "outputs": [
        {
          "output_type": "stream",
          "text": [
            "Model: \"cuasi autoencoder\"\n",
            "__________________________________________________________________________________________________\n",
            "Layer (type)                    Output Shape         Param #     Connected to                     \n",
            "==================================================================================================\n",
            "input_24 (InputLayer)           (None, 20, 60, 1)    0                                            \n",
            "__________________________________________________________________________________________________\n",
            "encoder (Sequential)            (None, 125)          2026589     input_24[0][0]                   \n",
            "__________________________________________________________________________________________________\n",
            "input_25 (InputLayer)           (None, 3)            0                                            \n",
            "__________________________________________________________________________________________________\n",
            "concatenate_8 (Concatenate)     (None, 128)          0           encoder[3][0]                    \n",
            "                                                                 input_25[0][0]                   \n",
            "__________________________________________________________________________________________________\n",
            "generador (Sequential)          (None, 20, 60, 1)    619265      concatenate_8[0][0]              \n",
            "==================================================================================================\n",
            "Total params: 2,645,854\n",
            "Trainable params: 2,645,854\n",
            "Non-trainable params: 0\n",
            "__________________________________________________________________________________________________\n"
          ],
          "name": "stdout"
        }
      ]
    },
    {
      "cell_type": "markdown",
      "metadata": {
        "id": "pbIeYfY6kk-i",
        "colab_type": "text"
      },
      "source": [
        "# Entrenamiento\n",
        "\n",
        "---\n",
        "\n"
      ]
    },
    {
      "cell_type": "code",
      "metadata": {
        "id": "P0awRrUukuX9",
        "colab_type": "code",
        "colab": {}
      },
      "source": [
        ""
      ],
      "execution_count": 0,
      "outputs": []
    },
    {
      "cell_type": "markdown",
      "metadata": {
        "id": "P70EdY_AqYjy",
        "colab_type": "text"
      },
      "source": [
        "#Modelo generado final\n",
        "\n",
        "---"
      ]
    },
    {
      "cell_type": "code",
      "metadata": {
        "id": "iapKpteeqd7k",
        "colab_type": "code",
        "colab": {}
      },
      "source": [
        "# input matriz direcciones (n,3)\n",
        "# output matriz visuales (n,20,60)\n",
        "\n",
        "def generar_edificio(direcciones):\n",
        "\n",
        "  return visuales\n"
      ],
      "execution_count": 0,
      "outputs": []
    },
    {
      "cell_type": "markdown",
      "metadata": {
        "id": "KSS1eHSmkz-k",
        "colab_type": "text"
      },
      "source": [
        "# Postprocesado de datos de salida\n",
        "\n",
        "---\n",
        "\n"
      ]
    },
    {
      "cell_type": "code",
      "metadata": {
        "id": "fi4PRsL7k4sb",
        "colab_type": "code",
        "colab": {}
      },
      "source": [
        ""
      ],
      "execution_count": 0,
      "outputs": []
    }
  ]
}