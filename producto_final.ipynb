{
  "nbformat": 4,
  "nbformat_minor": 0,
  "metadata": {
    "colab": {
      "name": "producto final.ipynb",
      "provenance": [],
      "collapsed_sections": [],
      "include_colab_link": true
    },
    "kernelspec": {
      "name": "python3",
      "display_name": "Python 3"
    }
  },
  "cells": [
    {
      "cell_type": "markdown",
      "metadata": {
        "id": "view-in-github",
        "colab_type": "text"
      },
      "source": [
        "<a href=\"https://colab.research.google.com/github/narfdf999/Arquitectura/blob/master/producto_final.ipynb\" target=\"_parent\"><img src=\"https://colab.research.google.com/assets/colab-badge.svg\" alt=\"Open In Colab\"/></a>"
      ]
    },
    {
      "cell_type": "markdown",
      "metadata": {
        "id": "Fn6UNwsaihrk",
        "colab_type": "text"
      },
      "source": [
        "# ***Solución final al problema de generar edificio a lo largo de un camino***\n",
        "\n",
        "\n"
      ]
    },
    {
      "cell_type": "markdown",
      "metadata": {
        "id": "bwn5-EUnmWXh",
        "colab_type": "text"
      },
      "source": [
        "# Introducción\n",
        "\n",
        "###\"*Caminante, no hay camino. Se hace camino al andar*\"\n",
        "Antonio Machado *1912*\n",
        "\n",
        "\n",
        "---\n",
        "\n",
        "En los últimos meses se ha avanzado mucho en lo correspondiente a generación de plantas de edificios y su distribución. El enfoque el éste trabajo es radicalmente distinto. Nosotros pretendemos ponernos en la piel del transeunte y vivir la experiencia de recorrer los edificios y las sensaciones que te generan. Para ello se toma como input una curva paramétrica de 3 dimensiones que representa el camino, la dividimos en trozos muy pequeños y realizamos las visuales con forma de nube de puntos en cada una y que de una intuición al arquitecto de por donde seguir en su diseño. Una visual en arquitectura como su propio nombre indica es la percepción en 360º desde una posición determinada de un edificio. La forma más eficiente es, usando un sistema de coordenadas esféricas tomar ángulos fijos y calcular la tercera coordenada, que es el radio. De esta forma obtenemos una esfera de distancias que puede ser simplificada en una matriz de distancas usando una proyección de Mercator. Dichas matrices son lo que el modelo genera. Después de obtener todas las visuales correspondientes se calcula la transformación inversa a la proyección de Mercator y se transporta cada una al punto indicado en la curva. Así se genera la nube de puntos de todo el camino através del edificio como si de un hormiguero se tratara.\n"
      ]
    },
    {
      "cell_type": "markdown",
      "metadata": {
        "id": "ofQ7UEagjJNa",
        "colab_type": "text"
      },
      "source": [
        "#Librerías\n",
        "\n",
        "---\n",
        "\n"
      ]
    },
    {
      "cell_type": "code",
      "metadata": {
        "id": "58mhsER7iORs",
        "colab_type": "code",
        "colab": {}
      },
      "source": [
        "import numpy as np\n",
        "import pandas as pd\n",
        "import csv\n",
        "import matplotlib.pyplot as plt\n",
        "import keras\n",
        "from keras.layers import Dense, Dropout, Input\n",
        "from keras.models import Model ,Sequential, load_model\n",
        "from tqdm import tqdm\n",
        "from keras.layers.advanced_activations import LeakyReLU\n",
        "from keras.optimizers import Adam"
      ],
      "execution_count": 0,
      "outputs": []
    },
    {
      "cell_type": "markdown",
      "metadata": {
        "id": "3iK555L1jQs7",
        "colab_type": "text"
      },
      "source": [
        "# Visualización y preprocesamiento de datos\n",
        "\n",
        "---\n",
        "\n"
      ]
    },
    {
      "cell_type": "code",
      "metadata": {
        "id": "4yFfQJoxjcJT",
        "colab_type": "code",
        "colab": {}
      },
      "source": [
        ""
      ],
      "execution_count": 0,
      "outputs": []
    },
    {
      "cell_type": "markdown",
      "metadata": {
        "id": "BSKb7ALbjczx",
        "colab_type": "text"
      },
      "source": [
        "# Implementación del sistema\n",
        "\n",
        "---\n",
        "\n"
      ]
    },
    {
      "cell_type": "markdown",
      "metadata": {
        "id": "V8sHUOdOlKhq",
        "colab_type": "text"
      },
      "source": [
        "### Optimizador ADAM"
      ]
    },
    {
      "cell_type": "code",
      "metadata": {
        "id": "wwJhRR0QjzUB",
        "colab_type": "code",
        "colab": {}
      },
      "source": [
        "def adam_optimizer():\n",
        "    return Adam(lr=0.0002, beta_1=0.5)"
      ],
      "execution_count": 0,
      "outputs": []
    },
    {
      "cell_type": "markdown",
      "metadata": {
        "id": "bMFnwIwAjvgq",
        "colab_type": "text"
      },
      "source": [
        "## DCGAN generadora de la primera visual\n",
        "\n",
        "---\n",
        "\n",
        "Para obtener una visual nueva por donde empezar y totalmente independiente de cualquier edificio se usa una GAN (Generative Adversarial Network) que será entrenada con miles de visuales de edificios de arquitectos famosos como Le Corbusier. Una GAN consta de dos redes, el generador y el discriminador. La primera se encarga de generar visuales a partir de un vector de ruido aleatorio. La segunda calcula si la visual ha sido generada mediante el generador o es una visual de un edificio real. Las dos redes van mejorando simultaneamente en sus tareas hasta que el generador es capaz de crear visuales que parecen reales. En ese momento se desecha el discriminador y se usa solo el generador para crear la primera pieza de dominó que servirá para ir creando el resto según se avance por el camino.\n",
        "\n"
      ]
    },
    {
      "cell_type": "markdown",
      "metadata": {
        "id": "Qyj7i39AlAEl",
        "colab_type": "text"
      },
      "source": [
        "### Generador\n",
        "\n",
        "El generador toma como input un vector de 128 posiciones de ruido aleatorio y lo transforma en un output con forma de matriz ( , ). Para ello se construye en base a una red deconvolucional. La matriz de salida representa una proyección de Mercator de la visual en 3d. \n",
        "\n",
        "\n"
      ]
    },
    {
      "cell_type": "code",
      "metadata": {
        "id": "NP1grr2nkE39",
        "colab_type": "code",
        "colab": {}
      },
      "source": [
        " "
      ],
      "execution_count": 0,
      "outputs": []
    },
    {
      "cell_type": "markdown",
      "metadata": {
        "id": "QdQJYxM-lSyM",
        "colab_type": "text"
      },
      "source": [
        "### Discriminador\n",
        "\n",
        "El discriminador toma o una visual real o una creada por el generador y calcula si es real o generada. "
      ]
    },
    {
      "cell_type": "code",
      "metadata": {
        "id": "zVaqSxrElVmC",
        "colab_type": "code",
        "colab": {}
      },
      "source": [
        ""
      ],
      "execution_count": 0,
      "outputs": []
    },
    {
      "cell_type": "markdown",
      "metadata": {
        "id": "tKZ27A8wlWUO",
        "colab_type": "text"
      },
      "source": [
        "### DCGAN\n",
        "\n",
        "Se pone en común el trabajo del generador y del discriminador para que mejoren de forma conjunta."
      ]
    },
    {
      "cell_type": "code",
      "metadata": {
        "id": "O8ukCkAAlZ_-",
        "colab_type": "code",
        "colab": {}
      },
      "source": [
        "def create_dcgan(discriminator, generator):\n",
        "  discriminator.trainable=False\n",
        "  #forma por definir\n",
        "  gan_input = Input(shape=(n,n,))\n",
        "  x = generator(gan_input)\n",
        "  gan_output=discriminator(x)\n",
        "  gan = Model(inputs=[gan_input], outputs=[gan_output])\n",
        "  gan.compile(loss='binary_crossentropy', optimizer='adam')\n",
        "  return gan\n",
        "\n",
        "gan=create_gan(d,g)\n",
        "gan.summary()"
      ],
      "execution_count": 0,
      "outputs": []
    },
    {
      "cell_type": "markdown",
      "metadata": {
        "id": "JS0RCdspkFsH",
        "colab_type": "text"
      },
      "source": [
        "## Cuasi Autoencoder que avanza paso a paso por el camino y genera las visuales según avanza\n",
        "\n",
        "---\n",
        "\n",
        "Esta red está compuesta de 2 subredes. La primera es una convolucional que permite comprimir todas las features en un array para concatenarlo con el array de dirección. La segunda es una red deconvolucional que a partir del vector comprimido concaatenado con las direcciones genera una nueva visual. El funcionamiento es muy similar a un autoencoder con el matiz de concatenar con las direcciones. Para aprovechar el aprendizaje adquirido en la GAN anterior se puede hacer transfer learning copiando muchas de sus capas.\n",
        "\n"
      ]
    },
    {
      "cell_type": "markdown",
      "metadata": {
        "id": "KmWKP5aTUPzJ",
        "colab_type": "text"
      },
      "source": [
        "### Subred convolucional"
      ]
    },
    {
      "cell_type": "code",
      "metadata": {
        "id": "qTc4oNslkZqN",
        "colab_type": "code",
        "colab": {}
      },
      "source": [
        ""
      ],
      "execution_count": 0,
      "outputs": []
    },
    {
      "cell_type": "markdown",
      "metadata": {
        "id": "PoLrMLO5UfJZ",
        "colab_type": "text"
      },
      "source": [
        "###Subred deconvolucional"
      ]
    },
    {
      "cell_type": "code",
      "metadata": {
        "id": "opSWxLPRUfZc",
        "colab_type": "code",
        "colab": {}
      },
      "source": [
        ""
      ],
      "execution_count": 0,
      "outputs": []
    },
    {
      "cell_type": "markdown",
      "metadata": {
        "id": "XsAU3NdGU3CV",
        "colab_type": "text"
      },
      "source": [
        "### Cuasi Autoencoder"
      ]
    },
    {
      "cell_type": "code",
      "metadata": {
        "id": "7U7Yf2iKU3R2",
        "colab_type": "code",
        "colab": {}
      },
      "source": [
        ""
      ],
      "execution_count": 0,
      "outputs": []
    },
    {
      "cell_type": "markdown",
      "metadata": {
        "id": "pbIeYfY6kk-i",
        "colab_type": "text"
      },
      "source": [
        "# Entrenamiento\n",
        "\n",
        "---\n",
        "\n"
      ]
    },
    {
      "cell_type": "code",
      "metadata": {
        "id": "P0awRrUukuX9",
        "colab_type": "code",
        "colab": {}
      },
      "source": [
        ""
      ],
      "execution_count": 0,
      "outputs": []
    },
    {
      "cell_type": "markdown",
      "metadata": {
        "id": "P70EdY_AqYjy",
        "colab_type": "text"
      },
      "source": [
        "#Modelo generado final\n",
        "\n",
        "---"
      ]
    },
    {
      "cell_type": "code",
      "metadata": {
        "id": "iapKpteeqd7k",
        "colab_type": "code",
        "colab": {}
      },
      "source": [
        ""
      ],
      "execution_count": 0,
      "outputs": []
    },
    {
      "cell_type": "markdown",
      "metadata": {
        "id": "KSS1eHSmkz-k",
        "colab_type": "text"
      },
      "source": [
        "# Postprocesado de datos de salida\n",
        "\n",
        "---\n",
        "\n"
      ]
    },
    {
      "cell_type": "code",
      "metadata": {
        "id": "fi4PRsL7k4sb",
        "colab_type": "code",
        "colab": {}
      },
      "source": [
        ""
      ],
      "execution_count": 0,
      "outputs": []
    }
  ]
}