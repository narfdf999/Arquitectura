{
  "nbformat": 4,
  "nbformat_minor": 0,
  "metadata": {
    "colab": {
      "name": "producto final.ipynb",
      "provenance": [],
      "include_colab_link": true
    },
    "kernelspec": {
      "name": "python3",
      "display_name": "Python 3"
    }
  },
  "cells": [
    {
      "cell_type": "markdown",
      "metadata": {
        "id": "view-in-github",
        "colab_type": "text"
      },
      "source": [
        "<a href=\"https://colab.research.google.com/github/narfdf999/Arquitectura/blob/master/producto_final.ipynb\" target=\"_parent\"><img src=\"https://colab.research.google.com/assets/colab-badge.svg\" alt=\"Open In Colab\"/></a>"
      ]
    },
    {
      "cell_type": "markdown",
      "metadata": {
        "id": "Fn6UNwsaihrk",
        "colab_type": "text"
      },
      "source": [
        "# ***Solución final al problema de generar edificio a lo largo de un camino***\n",
        "\n",
        "\n"
      ]
    },
    {
      "cell_type": "markdown",
      "metadata": {
        "id": "bwn5-EUnmWXh",
        "colab_type": "text"
      },
      "source": [
        "# Introducción\n",
        "\n",
        "---\n",
        "\n",
        "En los últimos meses se ha avanzado mucho en lo correspondiente a generación de plantas de edificios y su distribución. El enfoque el éste trabajo es radicalmente distinto\n"
      ]
    },
    {
      "cell_type": "markdown",
      "metadata": {
        "id": "ofQ7UEagjJNa",
        "colab_type": "text"
      },
      "source": [
        "#Librerías\n",
        "\n",
        "---\n",
        "\n"
      ]
    },
    {
      "cell_type": "code",
      "metadata": {
        "id": "58mhsER7iORs",
        "colab_type": "code",
        "colab": {}
      },
      "source": [
        "import numpy as np\n",
        "import pandas as pd\n",
        "import csv\n",
        "import matplotlib.pyplot as plt\n",
        "import keras\n",
        "from keras.layers import Dense, Dropout, Input\n",
        "from keras.models import Model ,Sequential, load_model\n",
        "from tqdm import tqdm\n",
        "from keras.layers.advanced_activations import LeakyReLU\n",
        "from keras.optimizers import Adam"
      ],
      "execution_count": 0,
      "outputs": []
    },
    {
      "cell_type": "markdown",
      "metadata": {
        "id": "3iK555L1jQs7",
        "colab_type": "text"
      },
      "source": [
        "# Visualización y preprocesamiento de datos\n",
        "\n",
        "---\n",
        "\n"
      ]
    },
    {
      "cell_type": "code",
      "metadata": {
        "id": "4yFfQJoxjcJT",
        "colab_type": "code",
        "colab": {}
      },
      "source": [
        ""
      ],
      "execution_count": 0,
      "outputs": []
    },
    {
      "cell_type": "markdown",
      "metadata": {
        "id": "BSKb7ALbjczx",
        "colab_type": "text"
      },
      "source": [
        "# Implementación del sistema\n",
        "\n",
        "---\n",
        "\n"
      ]
    },
    {
      "cell_type": "markdown",
      "metadata": {
        "id": "V8sHUOdOlKhq",
        "colab_type": "text"
      },
      "source": [
        "### Optimizador ADAM"
      ]
    },
    {
      "cell_type": "code",
      "metadata": {
        "id": "wwJhRR0QjzUB",
        "colab_type": "code",
        "colab": {}
      },
      "source": [
        "def adam_optimizer():\n",
        "    return Adam(lr=0.0002, beta_1=0.5)"
      ],
      "execution_count": 0,
      "outputs": []
    },
    {
      "cell_type": "markdown",
      "metadata": {
        "id": "bMFnwIwAjvgq",
        "colab_type": "text"
      },
      "source": [
        "## GAN generadora de la primera visual\n",
        "\n",
        "---\n",
        "\n"
      ]
    },
    {
      "cell_type": "markdown",
      "metadata": {
        "id": "Qyj7i39AlAEl",
        "colab_type": "text"
      },
      "source": [
        "### Generador\n",
        "\n",
        "\n",
        "\n"
      ]
    },
    {
      "cell_type": "code",
      "metadata": {
        "id": "NP1grr2nkE39",
        "colab_type": "code",
        "colab": {}
      },
      "source": [
        "# Red deconvolucional cuyo input es un vector de ruido de 128 posiciones con opción a condicionar que genera como output una matriz de ( , ) donde se almacenan las distancias del punto de la curva \n",
        "# al edificio en una proyección de Mercator. "
      ],
      "execution_count": 0,
      "outputs": []
    },
    {
      "cell_type": "markdown",
      "metadata": {
        "id": "QdQJYxM-lSyM",
        "colab_type": "text"
      },
      "source": [
        "### Discriminador"
      ]
    },
    {
      "cell_type": "code",
      "metadata": {
        "id": "zVaqSxrElVmC",
        "colab_type": "code",
        "colab": {}
      },
      "source": [
        ""
      ],
      "execution_count": 0,
      "outputs": []
    },
    {
      "cell_type": "markdown",
      "metadata": {
        "id": "tKZ27A8wlWUO",
        "colab_type": "text"
      },
      "source": [
        "### GAN"
      ]
    },
    {
      "cell_type": "code",
      "metadata": {
        "id": "O8ukCkAAlZ_-",
        "colab_type": "code",
        "colab": {}
      },
      "source": [
        ""
      ],
      "execution_count": 0,
      "outputs": []
    },
    {
      "cell_type": "markdown",
      "metadata": {
        "id": "JS0RCdspkFsH",
        "colab_type": "text"
      },
      "source": [
        "## Red neuronal que avanza paso a paso por el camino y genera las visuales según avanza\n",
        "\n",
        "---\n",
        "\n"
      ]
    },
    {
      "cell_type": "code",
      "metadata": {
        "id": "qTc4oNslkZqN",
        "colab_type": "code",
        "colab": {}
      },
      "source": [
        ""
      ],
      "execution_count": 0,
      "outputs": []
    },
    {
      "cell_type": "markdown",
      "metadata": {
        "id": "pbIeYfY6kk-i",
        "colab_type": "text"
      },
      "source": [
        "# Entrenamiento\n",
        "\n",
        "---\n",
        "\n"
      ]
    },
    {
      "cell_type": "code",
      "metadata": {
        "id": "P0awRrUukuX9",
        "colab_type": "code",
        "colab": {}
      },
      "source": [
        ""
      ],
      "execution_count": 0,
      "outputs": []
    },
    {
      "cell_type": "markdown",
      "metadata": {
        "id": "KSS1eHSmkz-k",
        "colab_type": "text"
      },
      "source": [
        "# Postprocesado de datos de salida\n",
        "\n",
        "---\n",
        "\n"
      ]
    },
    {
      "cell_type": "code",
      "metadata": {
        "id": "fi4PRsL7k4sb",
        "colab_type": "code",
        "colab": {}
      },
      "source": [
        ""
      ],
      "execution_count": 0,
      "outputs": []
    }
  ]
}